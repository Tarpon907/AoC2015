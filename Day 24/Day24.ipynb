{
 "cells": [
  {
   "attachments": {},
   "cell_type": "markdown",
   "metadata": {},
   "source": [
    "2015 Day 24\n",
    "\n",
    "https://adventofcode.com/2015/day/24"
   ]
  },
  {
   "attachments": {},
   "cell_type": "markdown",
   "metadata": {},
   "source": [
    "Part 1:\n",
    "Have to divide the packages in thirds of equal weight, and find the smallest group. First, we need to figure out how much 1 third is, so we sum the weights and divide by 3.  Then we reverse sort the list so we are starting with the heaviest packages (and therefore should end up with fewer packages). Calculate the quantum efficiency (QE) and find the lowest. Initially I hard-coded the entire thing to divide by thirds.  But...\n",
    "\n",
    "Part 2:\n",
    "Now we have to divide by fourths.  At this point, I generalized the code to divide into X equal portions, with a flag about whether or not we care about the QE.  We care about the QE for the package list inside the sleigh, but not for the packages in the other compartments.  That makes finding the package list for those compartments much faster since we can break out as soon as we find any combination that adds up to our desired weight.  Also, we can call this recursively by removing the packages the list that we already accounted for, and then divide the remaining packages by a smaller divisor.\n",
    "\n"
   ]
  },
  {
   "cell_type": "code",
   "execution_count": 1,
   "metadata": {},
   "outputs": [],
   "source": [
    "import numpy as np\n",
    "import scipy as sp\n",
    "import re\n",
    "import time\n",
    "import itertools\n",
    "import string\n",
    "import collections\n",
    "import math\n",
    "import functools\n",
    "import copy\n",
    "import operator\n",
    "import sys\n",
    "import av\n",
    "import codecs\n",
    "import json\n",
    "import heapq\n",
    "from PIL import Image, ImageDraw, ImageFont"
   ]
  },
  {
   "cell_type": "code",
   "execution_count": 7,
   "metadata": {},
   "outputs": [],
   "source": [
    "packages = [int(x) for x in open('input.txt', 'r').read().splitlines()]\n",
    "\n",
    "#print(packages)\n",
    "\n",
    "half = sum(packages)//2\n",
    "#print(\"1/2:\",half)\n",
    "third = sum(packages)//3\n",
    "#print(\"1/3:\",third)\n",
    "\n",
    "fourth = sum(packages)//4\n",
    "#print(\"1/4:\", fourth)\n",
    "\n",
    "packages.sort()\n",
    "packages.reverse()\n"
   ]
  },
  {
   "cell_type": "code",
   "execution_count": 10,
   "metadata": {},
   "outputs": [],
   "source": [
    "def subdivide(pack_list, portion, denominator, qe_matters = True):\n",
    "    pack_list.sort()\n",
    "    pack_list.reverse()\n",
    "\n",
    "    cnt = 1\n",
    "    ttl = pack_list[0]\n",
    "    while ttl < portion:\n",
    "        ttl += pack_list[cnt]\n",
    "        cnt += 1\n",
    "\n",
    "    found = False\n",
    "\n",
    "    low_qe = 1e12\n",
    "    low_lists = []\n",
    "\n",
    "    while not found:\n",
    "        for i in itertools.combinations(pack_list, cnt):\n",
    "            total = sum(i)\n",
    "            if total == portion:\n",
    "                pl_remainder = copy.copy(pack_list)\n",
    "                qe = 1\n",
    "                for j in list(i):\n",
    "                    pl_remainder.remove(j)\n",
    "                    qe *= j\n",
    "                if denominator > 2:\n",
    "                    _, split_lists = subdivide(pl_remainder, portion, denominator - 1, False)\n",
    "                    if not split_lists:\n",
    "                        continue\n",
    "                    found = True\n",
    "                else:\n",
    "                    found = True\n",
    "                    split_lists = pl_remainder\n",
    "                if not qe_matters:\n",
    "                    return [list(i)] + [list(split_lists)]\n",
    "                else:\n",
    "#                    print(qe)\n",
    "                    low_qe = min(qe, low_qe)\n",
    "                    low_lists = [list(i)] + [list(split_lists)]\n",
    "        cnt += 1\n",
    "\n",
    "    #print(low_lists)\n",
    "    return low_qe, low_lists"
   ]
  },
  {
   "cell_type": "code",
   "execution_count": 11,
   "metadata": {},
   "outputs": [
    {
     "name": "stdout",
     "output_type": "stream",
     "text": [
      "part1: 11266889531 [[101, 97, 89, 83, 79, 67], [71, 61, 59, 53, 47, 43, 41, 31, 29, 23, 19, 17, 13, 5, 3, 1]]\n",
      "part2: 77387711 [[97, 79, 73, 71, 67], [61, 59, 47, 43, 41, 31, 29, 23, 19, 17, 13, 3, 1]]\n"
     ]
    }
   ],
   "source": [
    "\n",
    "print(\"part1: \",end = \"\")\n",
    "qe, lists = subdivide(packages, third, 3)\n",
    "print(qe, lists)\n",
    "\n",
    "print(\"part2: \",end = \"\")\n",
    "qe, lists = subdivide(packages, fourth, 4)\n",
    "print(qe, lists)"
   ]
  }
 ],
 "metadata": {
  "kernelspec": {
   "display_name": "Python 3",
   "language": "python",
   "name": "python3"
  },
  "language_info": {
   "codemirror_mode": {
    "name": "ipython",
    "version": 3
   },
   "file_extension": ".py",
   "mimetype": "text/x-python",
   "name": "python",
   "nbconvert_exporter": "python",
   "pygments_lexer": "ipython3",
   "version": "3.11.1"
  },
  "orig_nbformat": 4,
  "vscode": {
   "interpreter": {
    "hash": "ccb1bbdea6c16a243991ab1fcf665bfb4d3899754165ecebf26033ef86109029"
   }
  }
 },
 "nbformat": 4,
 "nbformat_minor": 2
}
