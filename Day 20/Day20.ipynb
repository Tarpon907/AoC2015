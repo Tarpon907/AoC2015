{
 "cells": [
  {
   "cell_type": "code",
   "execution_count": 2,
   "metadata": {},
   "outputs": [],
   "source": [
    "import numpy as np\n",
    "import scipy as sp\n",
    "import re\n",
    "import time\n",
    "import itertools\n",
    "import string\n",
    "import collections\n",
    "import math\n",
    "import functools\n",
    "import copy\n",
    "import operator\n",
    "import sys\n",
    "import av\n",
    "import codecs\n",
    "import json\n",
    "from PIL import Image, ImageDraw, ImageFont"
   ]
  },
  {
   "cell_type": "code",
   "execution_count": 20,
   "metadata": {},
   "outputs": [
    {
     "name": "stdout",
     "output_type": "stream",
     "text": [
      "776160\n",
      "786240\n"
     ]
    }
   ],
   "source": [
    "input = 33100000\n",
    "    \n",
    "upper_bound = 1_000_000\n",
    "    \n",
    "a_1 = np.zeros(upper_bound)\n",
    "a_2 = np.zeros(upper_bound)\n",
    "\n",
    "for i in range(1,upper_bound):\n",
    "    a_1[i::i] += i * 10\n",
    "    a_2[i:(i+1)*50:i] += 11 * i\n",
    "\n",
    "\n",
    "    \n",
    "print(np.nonzero(a_1 >= input)[0][0])\n",
    "print(np.nonzero(a_2 >= input)[0][0])\n"
   ]
  }
 ],
 "metadata": {
  "kernelspec": {
   "display_name": "Python 3",
   "language": "python",
   "name": "python3"
  },
  "language_info": {
   "codemirror_mode": {
    "name": "ipython",
    "version": 3
   },
   "file_extension": ".py",
   "mimetype": "text/x-python",
   "name": "python",
   "nbconvert_exporter": "python",
   "pygments_lexer": "ipython3",
   "version": "3.11.1 (tags/v3.11.1:a7a450f, Dec  6 2022, 19:58:39) [MSC v.1934 64 bit (AMD64)]"
  },
  "orig_nbformat": 4,
  "vscode": {
   "interpreter": {
    "hash": "ccb1bbdea6c16a243991ab1fcf665bfb4d3899754165ecebf26033ef86109029"
   }
  }
 },
 "nbformat": 4,
 "nbformat_minor": 2
}
