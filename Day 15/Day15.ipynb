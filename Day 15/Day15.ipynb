{
 "cells": [
  {
   "attachments": {},
   "cell_type": "markdown",
   "metadata": {},
   "source": [
    "Day 15\n",
    "\n",
    "https://adventofcode.com/2015/day/15"
   ]
  },
  {
   "attachments": {},
   "cell_type": "markdown",
   "metadata": {},
   "source": [
    "Part1:\n",
    "Giving GEKKO a try to solve the nonlinear system of equations.  Works a treat\n",
    "\n",
    "Part2:\n",
    "Just add one more equation to make calories 500\n"
   ]
  },
  {
   "cell_type": "code",
   "execution_count": 17,
   "metadata": {},
   "outputs": [],
   "source": [
    "\n",
    "from gekko import GEKKO\n"
   ]
  },
  {
   "cell_type": "code",
   "execution_count": null,
   "metadata": {},
   "outputs": [],
   "source": [
    "# Frosting: capacity 4, durability -2, flavor 0, texture 0, calories 5\n",
    "# Candy: capacity 0, durability 5, flavor -1, texture 0, calories 8\n",
    "# Butterscotch: capacity -1, durability 0, flavor 5, texture 0, calories 6\n",
    "# Sugar: capacity 0, durability 0, flavor -2, texture 2, calories 1\n"
   ]
  },
  {
   "cell_type": "code",
   "execution_count": 18,
   "metadata": {},
   "outputs": [
    {
     "name": "stdout",
     "output_type": "stream",
     "text": [
      "apm 66.58.194.211_gk_model10 <br><pre> ----------------------------------------------------------------\n",
      " APMonitor, Version 1.0.1\n",
      " APMonitor Optimization Suite\n",
      " ----------------------------------------------------------------\n",
      " \n",
      " \n",
      " Warning: there is insufficient data in CSV file 66.58.194.211_gk_model10.csv\n",
      " \n",
      " --------- APM Model Size ------------\n",
      " Each time step contains\n",
      "   Objects      :            0\n",
      "   Constants    :            0\n",
      "   Variables    :            8\n",
      "   Intermediates:            0\n",
      "   Connections  :            0\n",
      "   Equations    :            7\n",
      "   Residuals    :            7\n",
      " \n",
      " Number of state variables:              8\n",
      " Number of total equations: -            6\n",
      " Number of slack variables: -            4\n",
      " ---------------------------------------\n",
      " Degrees of freedom       :             -2\n",
      " \n",
      " * Warning: DOF <= 0\n",
      " ----------------------------------------------\n",
      " Steady State Optimization with APOPT Solver\n",
      " ----------------------------------------------\n",
      "Iter:     1 I:  0 Tm:      0.00 NLPi:    9 Dpth:    0 Lvs:    3 Obj: -1.60E+07 Gap:       NaN\n",
      "Iter:     2 I:  0 Tm:      0.00 NLPi:    2 Dpth:    1 Lvs:    5 Obj: -1.59E+07 Gap:       NaN\n",
      "Iter:     3 I:  0 Tm:      0.00 NLPi:    6 Dpth:    1 Lvs:    6 Obj: -1.59E+07 Gap:       NaN\n",
      "Iter:     4 I:  0 Tm:      0.00 NLPi:    6 Dpth:    1 Lvs:    8 Obj: -1.57E+07 Gap:       NaN\n",
      "Iter:     5 I:  0 Tm:      0.00 NLPi:    2 Dpth:    2 Lvs:   10 Obj: -1.59E+07 Gap:       NaN\n",
      "Iter:     6 I:  0 Tm:      0.00 NLPi:    5 Dpth:    2 Lvs:   12 Obj: -1.59E+07 Gap:       NaN\n",
      "Iter:     7 I:  0 Tm:      0.00 NLPi:    5 Dpth:    2 Lvs:   13 Obj: -1.60E+07 Gap:       NaN\n",
      "Iter:     8 I:  0 Tm:      0.00 NLPi:    5 Dpth:    3 Lvs:   15 Obj: -1.59E+07 Gap:       NaN\n",
      "Iter:     9 I: -1 Tm:      0.00 NLPi:    1 Dpth:    3 Lvs:   14 Obj: -1.60E+07 Gap:       NaN\n",
      "Iter:    10 I:  0 Tm:      0.00 NLPi:    5 Dpth:    2 Lvs:   16 Obj: -1.58E+07 Gap:       NaN\n",
      "Iter:    11 I: -1 Tm:      0.00 NLPi:    1 Dpth:    2 Lvs:   15 Obj: -1.59E+07 Gap:       NaN\n",
      "Iter:    12 I: -1 Tm:      0.00 NLPi:    1 Dpth:    4 Lvs:   14 Obj: -1.59E+07 Gap:       NaN\n",
      "Iter:    13 I: -1 Tm:      0.00 NLPi:    1 Dpth:    4 Lvs:   13 Obj: -1.59E+07 Gap:       NaN\n",
      "--Integer Solution:  -1.57E+07 Lowest Leaf:  -1.59E+07 Gap:   1.24E-02\n",
      "Iter:    14 I:  0 Tm:      0.00 NLPi:    2 Dpth:    4 Lvs:   12 Obj: -1.57E+07 Gap:  1.24E-02\n",
      "Iter:    15 I:  0 Tm:      0.00 NLPi:    2 Dpth:    3 Lvs:   11 Obj:  0.00E+00 Gap:  1.24E-02\n",
      "Iter:    16 I:  0 Tm:      0.00 NLPi:    4 Dpth:    3 Lvs:   13 Obj: -1.58E+07 Gap:  1.24E-02\n",
      "Iter:    17 I: -1 Tm:      0.00 NLPi:    1 Dpth:    3 Lvs:   12 Obj: -1.59E+07 Gap:  1.24E-02\n",
      "--Integer Solution:  -1.59E+07 Lowest Leaf:  -1.59E+07 Gap:   3.73E-04\n",
      "Iter:    18 I:  0 Tm:      0.00 NLPi:    2 Dpth:    3 Lvs:   12 Obj: -1.59E+07 Gap:  3.73E-04\n",
      " Successful solution\n",
      " \n",
      " ---------------------------------------------------\n",
      " Solver         :  APOPT (v1.0)\n",
      " Solution time  :   4.310000000987202E-002 sec\n",
      " Objective      :   -15862900.0000000     \n",
      " Successful solution\n",
      " ---------------------------------------------------\n",
      " \n",
      "f: [21.0]\n",
      "c: [23.0]\n",
      "b: [31.0]\n",
      "s: [25.0]\n",
      "15862900.0\n"
     ]
    }
   ],
   "source": [
    "m = GEKKO()\n",
    "m.options.SOLVER = 1\n",
    "part2 = True\n",
    "\n",
    "\n",
    "f,c,b,s = [m.Var(lb = 0, ub = 100, integer=True) for i in range(4)]\n",
    "\n",
    "m.Equation(f + c + b + s == 100)\n",
    "m.Equation(4*f - b > 0)  # capacity\n",
    "m.Equation(5*c - 2*f > 0)  # durability\n",
    "m.Equation(5*b - c - 2*s > 0 ) # flavor\n",
    "m.Equation(2*s > 0)\n",
    "if part2:\n",
    "    m.Equation(5*f + 8*c + 6*b + 1*s == 500)\n",
    "\n",
    "m.Maximize((4*f - b) * (5*c - 2*f) * (5*b - c - 2*s) * (2 * s))\n",
    "\n",
    "m.solve()\n",
    "\n",
    "print(\"f:\", f.value)\n",
    "print(\"c:\", c.value)\n",
    "print(\"b:\", b.value)\n",
    "print(\"s:\", s.value)\n",
    "#print(\"m:\", m.value)\n",
    "\n",
    "F = f.value[0]\n",
    "B = b.value[0]\n",
    "C = c.value[0]\n",
    "S = s.value[0]\n",
    "\n",
    "score = (4*F - B) * (5*C - 2*F) * (5*B - C - 2*S) * (2 * S)\n",
    "print(score)\n",
    "\n",
    "\n"
   ]
  }
 ],
 "metadata": {
  "kernelspec": {
   "display_name": "Python 3",
   "language": "python",
   "name": "python3"
  },
  "language_info": {
   "codemirror_mode": {
    "name": "ipython",
    "version": 3
   },
   "file_extension": ".py",
   "mimetype": "text/x-python",
   "name": "python",
   "nbconvert_exporter": "python",
   "pygments_lexer": "ipython3",
   "version": "3.11.1 (tags/v3.11.1:a7a450f, Dec  6 2022, 19:58:39) [MSC v.1934 64 bit (AMD64)]"
  },
  "orig_nbformat": 4,
  "vscode": {
   "interpreter": {
    "hash": "ccb1bbdea6c16a243991ab1fcf665bfb4d3899754165ecebf26033ef86109029"
   }
  }
 },
 "nbformat": 4,
 "nbformat_minor": 2
}
