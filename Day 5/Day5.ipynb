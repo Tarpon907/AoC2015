{
 "cells": [
  {
   "attachments": {},
   "cell_type": "markdown",
   "metadata": {},
   "source": [
    "2015 Day 5\n",
    "\n",
    "https://adventofcode.com/2015/day/5\n"
   ]
  },
  {
   "attachments": {},
   "cell_type": "markdown",
   "metadata": {},
   "source": [
    "Part1:\n",
    "first look for doubled pairs. "
   ]
  },
  {
   "cell_type": "code",
   "execution_count": 22,
   "metadata": {},
   "outputs": [],
   "source": [
    "import numpy as np\n",
    "import scipy as sp\n",
    "import re\n",
    "import time\n",
    "import itertools\n",
    "import string\n",
    "import collections\n",
    "import math\n",
    "import functools\n",
    "import copy\n",
    "import operator\n",
    "import sys\n",
    "import av\n",
    "from PIL import Image, ImageDraw, ImageFont"
   ]
  },
  {
   "cell_type": "code",
   "execution_count": 23,
   "metadata": {},
   "outputs": [],
   "source": [
    "input = open('input.txt', 'r').read().splitlines()\n",
    "\n"
   ]
  },
  {
   "cell_type": "code",
   "execution_count": 24,
   "metadata": {},
   "outputs": [
    {
     "name": "stdout",
     "output_type": "stream",
     "text": [
      "part 1: 238\n"
     ]
    }
   ],
   "source": [
    "nice = 0\n",
    "\n",
    "bad = [\"ab\",\"cd\",\"pq\",\"xy\"]\n",
    "\n",
    "for line in input:\n",
    "    vowels = [line.count(c) for c in \"aeiou\"]\n",
    "    if sum(vowels) < 3:\n",
    "        continue\n",
    "\n",
    "    naughty = [line.count(b) for b in bad]\n",
    "    if sum(naughty) > 0:\n",
    "#        print(line,\"has the bad combos\")\n",
    "        continue\n",
    "\n",
    "    doubles = [line.count(d+d) for d in \"abcdefghijklmnopqrstuvwxyz\"]\n",
    "    if sum(doubles) == 0:\n",
    "        continue\n",
    "    nice += 1\n",
    "\n",
    "print(\"part 1:\", nice)\n",
    "\n"
   ]
  },
  {
   "cell_type": "code",
   "execution_count": 25,
   "metadata": {},
   "outputs": [
    {
     "name": "stdout",
     "output_type": "stream",
     "text": [
      "part2: 69\n"
     ]
    }
   ],
   "source": [
    "nice = 0\n",
    "\n",
    "\n",
    "for line in input:\n",
    "    condition1 = condition2 = False\n",
    "    for i in range(len(line)-1):\n",
    "        if line.count(line[i:i+2]) >= 2:\n",
    "            condition1 = True\n",
    "            break\n",
    "\n",
    "\n",
    "    for j in range(len(line)-2):\n",
    "        if line[j] == line[j+2]:\n",
    "            condition2 = True\n",
    "    \n",
    "    if condition1 and condition2:\n",
    "        nice += 1\n",
    "\n",
    "print(\"part2:\", nice)\n",
    "\n"
   ]
  }
 ],
 "metadata": {
  "kernelspec": {
   "display_name": "Python 3",
   "language": "python",
   "name": "python3"
  },
  "language_info": {
   "codemirror_mode": {
    "name": "ipython",
    "version": 3
   },
   "file_extension": ".py",
   "mimetype": "text/x-python",
   "name": "python",
   "nbconvert_exporter": "python",
   "pygments_lexer": "ipython3",
   "version": "3.11.1 (tags/v3.11.1:a7a450f, Dec  6 2022, 19:58:39) [MSC v.1934 64 bit (AMD64)]"
  },
  "orig_nbformat": 4,
  "vscode": {
   "interpreter": {
    "hash": "ccb1bbdea6c16a243991ab1fcf665bfb4d3899754165ecebf26033ef86109029"
   }
  }
 },
 "nbformat": 4,
 "nbformat_minor": 2
}
