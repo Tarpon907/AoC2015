{
 "cells": [
  {
   "attachments": {},
   "cell_type": "markdown",
   "metadata": {},
   "source": [
    "2015 Day 11\n",
    "\n",
    "https://adventofcode.com/2015/day/11"
   ]
  },
  {
   "attachments": {},
   "cell_type": "markdown",
   "metadata": {},
   "source": [
    "Today's problem was much easier than expected.\n",
    "\n",
    "First, redefine the \"alphabet\" to exclude the letters that aren't allowed.\n",
    "\n",
    "Then, define 2 functions.  One to roll the password to the next candidate, and one to check if the password is valid.\n",
    "\n",
    "Part 1:\n",
    "Run until we find the next valid password\n",
    "\n",
    "Part 2:\n",
    "Run it again until we find the valid password after that\n",
    "\n",
    "\n"
   ]
  },
  {
   "cell_type": "code",
   "execution_count": 7,
   "metadata": {},
   "outputs": [],
   "source": [
    "import numpy as np\n",
    "import scipy as sp\n",
    "import re\n",
    "import time\n",
    "import itertools\n",
    "import string\n",
    "import collections\n",
    "import math\n",
    "import functools\n",
    "import copy\n",
    "import operator\n",
    "import sys\n",
    "import av\n",
    "import codecs\n",
    "from PIL import Image, ImageDraw, ImageFont"
   ]
  },
  {
   "cell_type": "code",
   "execution_count": 8,
   "metadata": {},
   "outputs": [],
   "source": [
    "input = \"hxbxwxba\"\n",
    "alphabet = \"abcdefghjkmnpqrstuvwxyz\"\n",
    "doubles = []\n",
    "for i in alphabet:\n",
    "    doubles.append(i+i)\n",
    "\n",
    "straights = [\"abc\",\"bcd\",\"cde\",\"def\",\"fgh\",\"pqr\",\"qrs\",\"rst\",\"stu\",\"tuv\",\"uvw\",\"vwx\",\"wxy\",\"xyz\"]\n",
    "\n",
    "\n"
   ]
  },
  {
   "cell_type": "code",
   "execution_count": 13,
   "metadata": {},
   "outputs": [],
   "source": [
    "def check_valid(pw):\n",
    "    dblcnt = 0\n",
    "\n",
    "    global doubles, straights\n",
    "    for double in doubles:\n",
    "        if pw.count(double) > 0:\n",
    "            dblcnt += 1\n",
    "\n",
    "    if dblcnt < 2:\n",
    "        return False\n",
    "\n",
    "    strtcnt = 0\n",
    "    for straight in straights:\n",
    "        if pw.count(straight) > 0:\n",
    "            strtcnt += 1\n",
    "    if strtcnt == 0:\n",
    "        return False\n",
    "\n",
    "    return True\n",
    "\n",
    "    \n",
    "\n"
   ]
  },
  {
   "cell_type": "code",
   "execution_count": 14,
   "metadata": {},
   "outputs": [],
   "source": [
    "def roll_passwd(pw):\n",
    "    global alphabet\n",
    "    i = 7\n",
    "    rolled = True\n",
    "    while rolled:\n",
    "        rolled = False\n",
    "        index = alphabet.find(pw[i])\n",
    "        if index == len(alphabet) - 1:\n",
    "            index = 0\n",
    "            rolled = True\n",
    "        else:\n",
    "            index = index + 1\n",
    "        pw = pw[:i] + alphabet[index] + pw[i+1:]\n",
    "        if rolled:\n",
    "            i = i - 1\n",
    "    return pw\n",
    "    \n",
    "\n",
    "        "
   ]
  },
  {
   "cell_type": "code",
   "execution_count": 19,
   "metadata": {},
   "outputs": [],
   "source": [
    "passwd = input\n",
    "\n",
    "while not check_valid(passwd):\n",
    "    passwd = roll_passwd(passwd)\n",
    "#    print(passwd)\n",
    "\n",
    "part1 = passwd\n",
    "print(part1)\n"
   ]
  },
  {
   "cell_type": "code",
   "execution_count": 20,
   "metadata": {},
   "outputs": [
    {
     "name": "stdout",
     "output_type": "stream",
     "text": [
      "part1:  hxbxxyzz \n",
      "part2:  hxcaabcc\n"
     ]
    }
   ],
   "source": [
    "\n",
    "passwd = roll_passwd(passwd)\n",
    "\n",
    "while not check_valid(passwd):\n",
    "    passwd = roll_passwd(passwd)\n",
    "#    print(passwd)\n",
    "\n",
    "part2 = passwd\n",
    "\n",
    "print(\"part1: \", part1, \"\\npart2: \", part2)"
   ]
  }
 ],
 "metadata": {
  "kernelspec": {
   "display_name": "Python 3",
   "language": "python",
   "name": "python3"
  },
  "language_info": {
   "codemirror_mode": {
    "name": "ipython",
    "version": 3
   },
   "file_extension": ".py",
   "mimetype": "text/x-python",
   "name": "python",
   "nbconvert_exporter": "python",
   "pygments_lexer": "ipython3",
   "version": "3.11.1 (tags/v3.11.1:a7a450f, Dec  6 2022, 19:58:39) [MSC v.1934 64 bit (AMD64)]"
  },
  "orig_nbformat": 4,
  "vscode": {
   "interpreter": {
    "hash": "ccb1bbdea6c16a243991ab1fcf665bfb4d3899754165ecebf26033ef86109029"
   }
  }
 },
 "nbformat": 4,
 "nbformat_minor": 2
}
