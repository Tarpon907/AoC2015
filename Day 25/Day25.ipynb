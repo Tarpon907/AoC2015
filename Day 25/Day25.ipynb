{
 "cells": [
  {
   "cell_type": "code",
   "execution_count": null,
   "metadata": {},
   "outputs": [],
   "source": [
    "2015 Day 25\n",
    "\n",
    "https://adventofcode.com/2015/day/25"
   ]
  },
  {
   "attachments": {},
   "cell_type": "markdown",
   "metadata": {},
   "source": [
    "Well, I spent entirely too long on this trying to find a formula for the value at a particular position.  Eventually I gave up\n",
    "and just iterated from position 1 with value 20151125 to position p.\n",
    "\n",
    "Did have to spend some time to calculate the position at a given row and column.\n",
    "\n"
   ]
  },
  {
   "cell_type": "code",
   "execution_count": 3,
   "metadata": {},
   "outputs": [
    {
     "name": "stdout",
     "output_type": "stream",
     "text": [
      "index: 17850354\n",
      "value: 19980801\n"
     ]
    }
   ],
   "source": [
    "r = 2947\n",
    "c = 3029\n",
    "seen = {}\n",
    "start = 20151125\n",
    "\n",
    "p = (r + (c-1)) * (r + (c-2)) // 2 + c\n",
    "\n",
    "print(\"index:\", p)\n",
    "\n",
    "last = 20151125\n",
    "for _ in range(p - 1):\n",
    "    last = (last * 252533) % 33554393\n",
    "\n",
    "print(\"value:\", last)"
   ]
  }
 ],
 "metadata": {
  "kernelspec": {
   "display_name": "Python 3",
   "language": "python",
   "name": "python3"
  },
  "language_info": {
   "codemirror_mode": {
    "name": "ipython",
    "version": 3
   },
   "file_extension": ".py",
   "mimetype": "text/x-python",
   "name": "python",
   "nbconvert_exporter": "python",
   "pygments_lexer": "ipython3",
   "version": "3.11.1"
  },
  "orig_nbformat": 4,
  "vscode": {
   "interpreter": {
    "hash": "ccb1bbdea6c16a243991ab1fcf665bfb4d3899754165ecebf26033ef86109029"
   }
  }
 },
 "nbformat": 4,
 "nbformat_minor": 2
}
