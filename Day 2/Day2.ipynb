{
 "cells": [
  {
   "attachments": {},
   "cell_type": "markdown",
   "metadata": {},
   "source": [
    "2015 Day 2\n",
    "\n",
    "\n",
    "\n",
    "https://adventofcode.com/2015/day/2"
   ]
  },
  {
   "attachments": {},
   "cell_type": "markdown",
   "metadata": {},
   "source": [
    "Part 1:\n",
    "Read the package dimensions, and sort them.  Then we know the paper required because it's d[0] * d[1] * 3 + d[1] * d[2] * 2 + d[0] * d[2] * 2\n",
    "\n",
    "Part 2:\n",
    "ribbon is (d[0]+d[1]) * 2 + d[0] * d[1] * d[2]\n",
    "\n"
   ]
  },
  {
   "cell_type": "code",
   "execution_count": 1,
   "metadata": {},
   "outputs": [],
   "source": [
    "import numpy as np\n",
    "import scipy as sp\n",
    "import re\n",
    "import time\n",
    "import itertools\n",
    "import string\n",
    "import collections\n",
    "import math\n",
    "import functools\n",
    "import copy\n",
    "import operator\n",
    "import sys\n",
    "import av\n",
    "from PIL import Image, ImageDraw, ImageFont"
   ]
  },
  {
   "cell_type": "code",
   "execution_count": 2,
   "metadata": {},
   "outputs": [],
   "source": [
    "input = open('input.txt', 'r').read().splitlines()\n",
    "\n"
   ]
  },
  {
   "cell_type": "code",
   "execution_count": 36,
   "metadata": {},
   "outputs": [
    {
     "name": "stdout",
     "output_type": "stream",
     "text": [
      "paper: 1586300\n",
      "total_ribbon: 3737498\n"
     ]
    }
   ],
   "source": [
    "total_paper = 0\n",
    "total_ribbon = 0\n",
    "for line in input:\n",
    "\n",
    "    d = [int(x) for x in line.split(\"x\")]\n",
    "    d.sort()\n",
    "\n",
    "    total_paper += d[0] * d[1] * 3 + d[1] * d[2] * 2 + d[0] * d[2] * 2\n",
    "\n",
    "    total_ribbon += 2 * d[0] + 2 * d[1] + d[0] * d[1] * d[2]\n",
    "\n",
    "print(\"paper:\", total_paper)\n",
    "print(\"total_ribbon:\", total_ribbon)\n"
   ]
  }
 ],
 "metadata": {
  "kernelspec": {
   "display_name": "Python 3",
   "language": "python",
   "name": "python3"
  },
  "language_info": {
   "codemirror_mode": {
    "name": "ipython",
    "version": 3
   },
   "file_extension": ".py",
   "mimetype": "text/x-python",
   "name": "python",
   "nbconvert_exporter": "python",
   "pygments_lexer": "ipython3",
   "version": "3.11.1 (tags/v3.11.1:a7a450f, Dec  6 2022, 19:58:39) [MSC v.1934 64 bit (AMD64)]"
  },
  "orig_nbformat": 4,
  "vscode": {
   "interpreter": {
    "hash": "ccb1bbdea6c16a243991ab1fcf665bfb4d3899754165ecebf26033ef86109029"
   }
  }
 },
 "nbformat": 4,
 "nbformat_minor": 2
}
