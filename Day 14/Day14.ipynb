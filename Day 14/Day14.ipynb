{
 "cells": [
  {
   "attachments": {},
   "cell_type": "markdown",
   "metadata": {},
   "source": [
    "2015 Day 14\n",
    "\n",
    "https://adventofcode.com/2015/day/14"
   ]
  },
  {
   "attachments": {},
   "cell_type": "markdown",
   "metadata": {},
   "source": [
    "part 1:  Figure out length of a cycle for each reindeer, and then use divmod to figure out how many cycles, and how many remainders.  Calculate distances.\n",
    "\n",
    "part 2: Keep a list of reindeer positions.  Iterate over the timespan, calculating positions, and keeping track of how many times each reindeer leads.\n"
   ]
  },
  {
   "cell_type": "code",
   "execution_count": null,
   "metadata": {},
   "outputs": [],
   "source": [
    "import numpy as np\n",
    "import scipy as sp\n",
    "import re\n",
    "import time\n",
    "import itertools\n",
    "import string\n",
    "import collections\n",
    "import math\n",
    "import functools\n",
    "import copy\n",
    "import operator\n",
    "import sys\n",
    "import av\n",
    "import codecs\n",
    "import json\n",
    "from PIL import Image, ImageDraw, ImageFont"
   ]
  },
  {
   "cell_type": "code",
   "execution_count": null,
   "metadata": {},
   "outputs": [],
   "source": [
    "input = open('input.txt', 'r').read().splitlines()"
   ]
  },
  {
   "cell_type": "code",
   "execution_count": null,
   "metadata": {},
   "outputs": [],
   "source": [
    "stats = {}\n",
    "\n",
    "for line in input:\n",
    "    # Vixen can fly 19 km/s for 7 seconds, but then must rest for 124 seconds.\n",
    "#    print(line)\n",
    "    m = re.search(r\"(\\S+) can fly (\\d+) km/s for (\\d+) seconds, but then must rest for (\\d+) seconds.\",line)\n",
    "    stats[m.group(1)] = [int(m.group(2)), int(m.group(3)), int(m.group(4))]\n",
    "\n"
   ]
  },
  {
   "cell_type": "code",
   "execution_count": null,
   "metadata": {},
   "outputs": [],
   "source": [
    "SECONDS = 2503\n",
    "\n",
    "best = 0\n",
    "for i in stats.keys():\n",
    "    rate, duration, rest = stats[i]\n",
    "\n",
    "    cycle = duration + rest\n",
    "    d,m = divmod(SECONDS, cycle)\n",
    "\n",
    "    distance = d * rate * duration\n",
    "    distance += min(m,duration) * rate\n",
    "\n",
    "\n",
    "#    print(i, distance)\n",
    "    best = max(best,distance)\n",
    "\n",
    "print(\"part1:\", best)"
   ]
  },
  {
   "cell_type": "code",
   "execution_count": null,
   "metadata": {},
   "outputs": [],
   "source": [
    "best = 0\n",
    "a = {}\n",
    "score = {}\n",
    "position = {}\n",
    "\n",
    "\n",
    "for i in stats.keys():\n",
    "    rate, duration, rest = stats[i]\n",
    "    cycle = duration + rest\n",
    "    score[i] = 0\n",
    "    position[i] = 0\n",
    "\n",
    "for sec in range(SECONDS):\n",
    "#    print(sec)\n",
    "    for i in stats.keys():\n",
    "        rate, duration, rest = stats[i]\n",
    "        cycle = duration + rest \n",
    "#        print(cycle)       \n",
    "        position[i] += rate if sec % cycle < duration else 0\n",
    "#        print(position[i])\n",
    "    \n",
    "    best = 0\n",
    "    for i in stats.keys():\n",
    "        best = max(best,position[i])\n",
    "\n",
    "#    print(best)\n",
    "\n",
    "    for i in stats.keys():\n",
    "        score[i] += 1 if position[i] == best else 0\n",
    "\n",
    "print(score)\n",
    "print(score[max(score.items(), key=operator.itemgetter(1))[0]])\n",
    "\n",
    "    \n",
    "    \n",
    "\n",
    "\n"
   ]
  }
 ],
 "metadata": {
  "kernelspec": {
   "display_name": "Python 3",
   "language": "python",
   "name": "python3"
  },
  "language_info": {
   "codemirror_mode": {
    "name": "ipython",
    "version": 3
   },
   "file_extension": ".py",
   "mimetype": "text/x-python",
   "name": "python",
   "nbconvert_exporter": "python",
   "pygments_lexer": "ipython3",
   "version": "3.11.1"
  },
  "orig_nbformat": 4,
  "vscode": {
   "interpreter": {
    "hash": "ccb1bbdea6c16a243991ab1fcf665bfb4d3899754165ecebf26033ef86109029"
   }
  }
 },
 "nbformat": 4,
 "nbformat_minor": 2
}
