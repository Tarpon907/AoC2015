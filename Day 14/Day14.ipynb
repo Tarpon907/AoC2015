{
 "cells": [
  {
   "cell_type": "code",
   "execution_count": 1,
   "metadata": {},
   "outputs": [],
   "source": [
    "import numpy as np\n",
    "import scipy as sp\n",
    "import re\n",
    "import time\n",
    "import itertools\n",
    "import string\n",
    "import collections\n",
    "import math\n",
    "import functools\n",
    "import copy\n",
    "import operator\n",
    "import sys\n",
    "import av\n",
    "import codecs\n",
    "import json\n",
    "from PIL import Image, ImageDraw, ImageFont"
   ]
  },
  {
   "cell_type": "code",
   "execution_count": 2,
   "metadata": {},
   "outputs": [],
   "source": [
    "input = open('input.txt', 'r').read().splitlines()"
   ]
  },
  {
   "cell_type": "code",
   "execution_count": 4,
   "metadata": {},
   "outputs": [
    {
     "name": "stdout",
     "output_type": "stream",
     "text": [
      "{'Vixen': [19, 7, 124], 'Rudolph': [3, 15, 28], 'Donner': [19, 9, 164], 'Blitzen': [19, 9, 158], 'Comet': [13, 7, 82], 'Cupid': [25, 6, 145], 'Dasher': [14, 3, 38], 'Dancer': [3, 16, 37], 'Prancer': [25, 6, 143]}\n"
     ]
    }
   ],
   "source": [
    "stats = {}\n",
    "\n",
    "for line in input:\n",
    "    # Vixen can fly 19 km/s for 7 seconds, but then must rest for 124 seconds.\n",
    "#    print(line)\n",
    "    m = re.search(r\"(\\S+) can fly (\\d+) km/s for (\\d+) seconds, but then must rest for (\\d+) seconds.\",line)\n",
    "    stats[m.group(1)] = [int(m.group(2)), int(m.group(3)), int(m.group(4))]\n",
    "\n"
   ]
  },
  {
   "cell_type": "code",
   "execution_count": 12,
   "metadata": {},
   "outputs": [
    {
     "name": "stdout",
     "output_type": "stream",
     "text": [
      "part1: 2660\n"
     ]
    }
   ],
   "source": [
    "SECONDS = 2503\n",
    "\n",
    "best = 0\n",
    "for i in stats.keys():\n",
    "    rate, duration, rest = stats[i]\n",
    "\n",
    "    cycle = duration + rest\n",
    "    d,m = divmod(SECONDS, cycle)\n",
    "\n",
    "    distance = d * rate * duration\n",
    "    distance += min(m,duration) * rate\n",
    "\n",
    "\n",
    "#    print(i, distance)\n",
    "    best = max(best,distance)\n",
    "\n",
    "print(\"part1:\", best)"
   ]
  },
  {
   "cell_type": "code",
   "execution_count": 29,
   "metadata": {},
   "outputs": [
    {
     "name": "stdout",
     "output_type": "stream",
     "text": [
      "{'Vixen': 469, 'Rudolph': 188, 'Donner': 589, 'Blitzen': 1256, 'Comet': 158, 'Cupid': 307, 'Dasher': 9, 'Dancer': 0, 'Prancer': 504}\n",
      "1256\n"
     ]
    }
   ],
   "source": [
    "best = 0\n",
    "a = {}\n",
    "score = {}\n",
    "position = {}\n",
    "\n",
    "\n",
    "for i in stats.keys():\n",
    "    rate, duration, rest = stats[i]\n",
    "    cycle = duration + rest\n",
    "    score[i] = 0\n",
    "    position[i] = 0\n",
    "\n",
    "for sec in range(SECONDS):\n",
    "#    print(sec)\n",
    "    for i in stats.keys():\n",
    "        rate, duration, rest = stats[i]\n",
    "        cycle = duration + rest \n",
    "#        print(cycle)       \n",
    "        position[i] += rate if sec % cycle < duration else 0\n",
    "#        print(position[i])\n",
    "    \n",
    "    best = 0\n",
    "    for i in stats.keys():\n",
    "        best = max(best,position[i])\n",
    "\n",
    "#    print(best)\n",
    "\n",
    "    for i in stats.keys():\n",
    "        score[i] += 1 if position[i] == best else 0\n",
    "\n",
    "print(score)\n",
    "print(score[max(score.items(), key=operator.itemgetter(1))[0]])\n",
    "\n",
    "    \n",
    "    \n",
    "\n",
    "\n"
   ]
  }
 ],
 "metadata": {
  "kernelspec": {
   "display_name": "Python 3",
   "language": "python",
   "name": "python3"
  },
  "language_info": {
   "codemirror_mode": {
    "name": "ipython",
    "version": 3
   },
   "file_extension": ".py",
   "mimetype": "text/x-python",
   "name": "python",
   "nbconvert_exporter": "python",
   "pygments_lexer": "ipython3",
   "version": "3.11.1"
  },
  "orig_nbformat": 4,
  "vscode": {
   "interpreter": {
    "hash": "ccb1bbdea6c16a243991ab1fcf665bfb4d3899754165ecebf26033ef86109029"
   }
  }
 },
 "nbformat": 4,
 "nbformat_minor": 2
}
