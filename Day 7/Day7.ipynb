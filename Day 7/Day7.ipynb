{
 "cells": [
  {
   "attachments": {},
   "cell_type": "markdown",
   "metadata": {},
   "source": [
    "2015 Day 7\n",
    "\n",
    "https://adventofcode.com/2015/day/7\n"
   ]
  },
  {
   "attachments": {},
   "cell_type": "markdown",
   "metadata": {},
   "source": [
    "Part 1:\n",
    "Read the lines into a dictionary, then recursively process as a tree\n",
    "\n",
    "Part 2:\n",
    "Re-create the tree, set the value of b to the output of part 1.  Run it again.\n",
    "\n"
   ]
  },
  {
   "cell_type": "code",
   "execution_count": null,
   "metadata": {},
   "outputs": [],
   "source": [
    "import numpy as np\n",
    "import scipy as sp\n",
    "import re\n",
    "import time\n",
    "import itertools\n",
    "import string\n",
    "import collections\n",
    "import math\n",
    "import functools\n",
    "import copy\n",
    "import operator\n",
    "import sys\n",
    "import av\n",
    "from PIL import Image, ImageDraw, ImageFont"
   ]
  },
  {
   "cell_type": "code",
   "execution_count": null,
   "metadata": {},
   "outputs": [],
   "source": [
    "input = open('input.txt', 'r').read().splitlines()\n",
    "\n",
    "value = {}"
   ]
  },
  {
   "cell_type": "code",
   "execution_count": 14,
   "metadata": {},
   "outputs": [],
   "source": [
    "def get_value(my_key, indent = 0):\n",
    "\n",
    "    if my_key.isdigit():\n",
    "        return int(my_key)\n",
    "#    print(\" \"* indent, \"get_value:\",my_key, end = \"\")\n",
    "#    print(\" === \", value[my_key])\n",
    "    data = value[my_key]\n",
    "    data = str(data)\n",
    "    if data.isdigit():\n",
    "        return int(data)\n",
    "\n",
    "   \n",
    "    if len(data) <= 2:\n",
    "        return get_value(data)\n",
    "\n",
    "    if data.count(\"RSHIFT\"):\n",
    "        l,r = data.split(\" RSHIFT \")\n",
    "        value[my_key] = get_value(l, indent + 2) >> get_value(r, indent + 2)\n",
    "\n",
    "    if data.count(\"LSHIFT\"):\n",
    "        l,r = data.split(\" LSHIFT \")\n",
    "        value[my_key] = get_value(l, indent + 2) << get_value(r, indent + 2)\n",
    "\n",
    "    if data.count(\"AND\"):\n",
    "        l,r = data.split(\" AND \")\n",
    "        value[my_key] = get_value(l, indent + 2) & get_value(r, indent + 2)\n",
    "\n",
    "    if data.count(\"OR\"):\n",
    "        l,r = data.split(\" OR \")\n",
    "        value[my_key] = get_value(l, indent + 2) | get_value(r, indent + 2)\n",
    "\n",
    "    if data.count(\"NOT\"):\n",
    "        l,r = data.split(\"NOT \")\n",
    "        value[my_key] = ~get_value(r, indent + 2)\n",
    "\n",
    "#    print(\" \" * indent, my_key, \" = \", value[my_key])   \n",
    "\n",
    "    return value[my_key]\n",
    "\n"
   ]
  },
  {
   "cell_type": "code",
   "execution_count": 15,
   "metadata": {},
   "outputs": [
    {
     "name": "stdout",
     "output_type": "stream",
     "text": [
      "part 1: 46065\n"
     ]
    }
   ],
   "source": [
    "value = {}\n",
    "for i in input:\n",
    "    data, my_key = i.split(\" -> \")\n",
    "    value[my_key] = data\n",
    "\n",
    "#print(value)\n",
    "\n",
    "part1 = get_value(\"a\")\n",
    "\n",
    "print(\"part 1:\", part1)\n",
    "\n"
   ]
  },
  {
   "cell_type": "code",
   "execution_count": 17,
   "metadata": {},
   "outputs": [
    {
     "name": "stdout",
     "output_type": "stream",
     "text": [
      "part 2: 14134\n"
     ]
    }
   ],
   "source": [
    "value = {}\n",
    "for i in input:\n",
    "    data, my_key = i.split(\" -> \")\n",
    "    value[my_key] = data\n",
    "\n",
    "value[\"b\"] = part1\n",
    "#print(value)\n",
    "\n",
    "part2 = get_value(\"a\")\n",
    "\n",
    "print(\"part 2:\", part2)"
   ]
  }
 ],
 "metadata": {
  "kernelspec": {
   "display_name": "Python 3",
   "language": "python",
   "name": "python3"
  },
  "language_info": {
   "codemirror_mode": {
    "name": "ipython",
    "version": 3
   },
   "file_extension": ".py",
   "mimetype": "text/x-python",
   "name": "python",
   "nbconvert_exporter": "python",
   "pygments_lexer": "ipython3",
   "version": "3.11.1 (tags/v3.11.1:a7a450f, Dec  6 2022, 19:58:39) [MSC v.1934 64 bit (AMD64)]"
  },
  "orig_nbformat": 4,
  "vscode": {
   "interpreter": {
    "hash": "ccb1bbdea6c16a243991ab1fcf665bfb4d3899754165ecebf26033ef86109029"
   }
  }
 },
 "nbformat": 4,
 "nbformat_minor": 2
}
