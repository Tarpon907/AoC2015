{
 "cells": [
  {
   "attachments": {},
   "cell_type": "markdown",
   "metadata": {},
   "source": [
    "2015 Day 12\n",
    "\n",
    "https://adventofcode.com/2015/day/12"
   ]
  },
  {
   "attachments": {},
   "cell_type": "markdown",
   "metadata": {},
   "source": [
    "Part 1:\n",
    "simple regexp iterator that finds all numbers, and adds them together.  Easy peasy\n",
    "\n",
    "Part 2:\n",
    "function get_value that returns the value of an item.  If the item is a number, return the number. If it's a string, return 0.  If it's a list, return the sum of the values of the items in the list.  If it's a dict, return 0 for the whole thing if any of the values in the dict are \"red\", otherwise, return the sum of the values of the items in the dict."
   ]
  },
  {
   "cell_type": "code",
   "execution_count": 9,
   "metadata": {},
   "outputs": [],
   "source": [
    "import numpy as np\n",
    "import scipy as sp\n",
    "import re\n",
    "import time\n",
    "import itertools\n",
    "import string\n",
    "import collections\n",
    "import math\n",
    "import functools\n",
    "import copy\n",
    "import operator\n",
    "import sys\n",
    "import av\n",
    "import codecs\n",
    "import json\n",
    "from PIL import Image, ImageDraw, ImageFont"
   ]
  },
  {
   "cell_type": "code",
   "execution_count": 10,
   "metadata": {},
   "outputs": [],
   "source": [
    "input = open('input.txt', 'r').read()"
   ]
  },
  {
   "cell_type": "code",
   "execution_count": 53,
   "metadata": {},
   "outputs": [],
   "source": [
    "def get_value(item):\n",
    "    total = 0\n",
    "    if type(item) == dict:\n",
    "        for j in item.keys():\n",
    "            val = item[j]\n",
    "            if val == \"red\":\n",
    "                return 0\n",
    "            else:\n",
    "                total = total + get_value(val)\n",
    "    elif type(item) == int:\n",
    "        return item\n",
    "    elif type(item) == str:\n",
    "        return 0\n",
    "    elif type(item) == list:\n",
    "        for i in item:\n",
    "            total = total + get_value(i)\n",
    "\n",
    "    return total"
   ]
  },
  {
   "cell_type": "code",
   "execution_count": 55,
   "metadata": {},
   "outputs": [
    {
     "name": "stdout",
     "output_type": "stream",
     "text": [
      "156366\n",
      "96852\n"
     ]
    }
   ],
   "source": [
    "total = 0\n",
    "for i in re.finditer(r\"-?\\d+\",input):\n",
    "    total += int(i.group(0))\n",
    "\n",
    "print(total)\n",
    "total2 = 0\n",
    "\n",
    "\n",
    "foo = json.loads(input)\n",
    "    \n",
    "for i, item in enumerate(foo):\n",
    "    total2 = total2 + get_value(item)\n",
    "\n",
    "print(total2)\n",
    "\n"
   ]
  }
 ],
 "metadata": {
  "kernelspec": {
   "display_name": "Python 3",
   "language": "python",
   "name": "python3"
  },
  "language_info": {
   "codemirror_mode": {
    "name": "ipython",
    "version": 3
   },
   "file_extension": ".py",
   "mimetype": "text/x-python",
   "name": "python",
   "nbconvert_exporter": "python",
   "pygments_lexer": "ipython3",
   "version": "3.11.1 (tags/v3.11.1:a7a450f, Dec  6 2022, 19:58:39) [MSC v.1934 64 bit (AMD64)]"
  },
  "orig_nbformat": 4,
  "vscode": {
   "interpreter": {
    "hash": "ccb1bbdea6c16a243991ab1fcf665bfb4d3899754165ecebf26033ef86109029"
   }
  }
 },
 "nbformat": 4,
 "nbformat_minor": 2
}
