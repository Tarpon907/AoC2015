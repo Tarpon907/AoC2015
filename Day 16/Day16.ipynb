{
 "cells": [
  {
   "attachments": {},
   "cell_type": "markdown",
   "metadata": {},
   "source": [
    "2015 Day 16\n",
    "\n",
    "https://adventofcode.com/2015/day/16"
   ]
  },
  {
   "attachments": {},
   "cell_type": "markdown",
   "metadata": {},
   "source": [
    "Part 1:\n",
    "As we read each sue, look for the one that has the desired equal data.\n",
    "\n",
    "Part 2:\n",
    "As we read each sue, look for the one that haws the desired equal or inequality data.\n"
   ]
  },
  {
   "cell_type": "code",
   "execution_count": 2,
   "metadata": {},
   "outputs": [],
   "source": [
    "import numpy as np\n",
    "import scipy as sp\n",
    "import re\n",
    "import time\n",
    "import itertools\n",
    "import string\n",
    "import collections\n",
    "import math\n",
    "import functools\n",
    "import copy\n",
    "import operator\n",
    "import sys\n",
    "import av\n",
    "import codecs\n",
    "import json\n",
    "from PIL import Image, ImageDraw, ImageFont"
   ]
  },
  {
   "cell_type": "code",
   "execution_count": 3,
   "metadata": {},
   "outputs": [
    {
     "name": "stdout",
     "output_type": "stream",
     "text": [
      "{'children': 3, 'cats': 7, 'samoyeds': 2, 'pomeranians': 3, 'akitas': 0, 'vizslas': 0, 'goldfish': 5, 'trees': 3, 'cars': 2, 'perfumes': 1}\n"
     ]
    }
   ],
   "source": [
    "input = open('input.txt', 'r').read().splitlines()\n",
    "\n",
    "# children: 3\n",
    "# cats: 7\n",
    "# samoyeds: 2\n",
    "# pomeranians: 3\n",
    "# akitas: 0\n",
    "# vizslas: 0\n",
    "# goldfish: 5\n",
    "# trees: 3\n",
    "# cars: 2\n",
    "# perfumes: 1\n",
    "\n",
    "results = {\"children\" : 3, \"cats\" : 7, \"samoyeds\" : 2, \"pomeranians\" : 3, \"akitas\" : 0, \\\n",
    "            \"vizslas\" : 0, \"goldfish\" : 5, \"trees\" : 3, \"cars\" : 2, \"perfumes\" : 1}\n",
    "\n",
    "print(results)"
   ]
  },
  {
   "cell_type": "code",
   "execution_count": 6,
   "metadata": {},
   "outputs": [
    {
     "name": "stdout",
     "output_type": "stream",
     "text": [
      "part2: 260\n",
      "part1: 373\n"
     ]
    }
   ],
   "source": [
    "# Sue 13: cats: 4, samoyeds: 7, pomeranians: 8\n",
    "\n",
    "right_sue = 0\n",
    "for aunt in input:\n",
    "    m = re.search(r\"Sue (\\d+): (\\S+): (\\d+), (\\S+): (\\d+), (\\S+): (\\d+)\", aunt)\n",
    "    if results[m.group(2)] == int(m.group(3)) and \\\n",
    "        results[m.group(4)] == int(m.group(5)) and \\\n",
    "            results[m.group(6)] == int(m.group(7)):\n",
    "            right_sue = int(m.group(1))\n",
    "\n",
    "\n",
    "            print(\"part1:\", m.group(1))\n",
    "\n",
    "    good = True\n",
    "    for i in range(2, 7, 2):\n",
    "        check_key = m.group(i)\n",
    "        val = int(m.group(i+1))\n",
    "        if check_key == \"cats\" or check_key == \"trees\":\n",
    "            if val <= results[check_key]:\n",
    "                good = False\n",
    "        elif check_key == \"pomeranians\" or check_key == \"goldfish\":\n",
    "            if val >= results[check_key]:\n",
    "                good = False\n",
    "        elif results[check_key] != val:\n",
    "            good = False\n",
    "\n",
    "    if good:\n",
    "        print(\"part2:\", m.group(1))        \n",
    "    \n",
    "        \n"
   ]
  }
 ],
 "metadata": {
  "kernelspec": {
   "display_name": "Python 3",
   "language": "python",
   "name": "python3"
  },
  "language_info": {
   "codemirror_mode": {
    "name": "ipython",
    "version": 3
   },
   "file_extension": ".py",
   "mimetype": "text/x-python",
   "name": "python",
   "nbconvert_exporter": "python",
   "pygments_lexer": "ipython3",
   "version": "3.11.1"
  },
  "orig_nbformat": 4,
  "vscode": {
   "interpreter": {
    "hash": "ccb1bbdea6c16a243991ab1fcf665bfb4d3899754165ecebf26033ef86109029"
   }
  }
 },
 "nbformat": 4,
 "nbformat_minor": 2
}
