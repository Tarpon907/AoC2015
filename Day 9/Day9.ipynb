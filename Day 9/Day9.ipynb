{
 "cells": [
  {
   "attachments": {},
   "cell_type": "markdown",
   "metadata": {},
   "source": [
    "2015 Day 9\n",
    "\n",
    "https://adventofcode.com/2015/day/9"
   ]
  },
  {
   "attachments": {},
   "cell_type": "markdown",
   "metadata": {},
   "source": [
    "Part1:\n",
    "Read the cities and distances into a dictionary where the city pairs (both ways) are the keys\n",
    "Then iterate over all permutations, finding the lowest\n",
    "\n",
    "Part2:\n",
    "add 2 lines to part 1 to also keep track of the highest\n"
   ]
  },
  {
   "cell_type": "code",
   "execution_count": 13,
   "metadata": {},
   "outputs": [],
   "source": [
    "import numpy as np\n",
    "import scipy as sp\n",
    "import re\n",
    "import time\n",
    "import itertools\n",
    "import string\n",
    "import collections\n",
    "import math\n",
    "import functools\n",
    "import copy\n",
    "import operator\n",
    "import sys\n",
    "import av\n",
    "import codecs\n",
    "from PIL import Image, ImageDraw, ImageFont"
   ]
  },
  {
   "cell_type": "code",
   "execution_count": 14,
   "metadata": {},
   "outputs": [],
   "source": [
    "input = open('input.txt', 'r').read().splitlines()\n"
   ]
  },
  {
   "cell_type": "code",
   "execution_count": 20,
   "metadata": {},
   "outputs": [
    {
     "name": "stdout",
     "output_type": "stream",
     "text": [
      "251\n",
      "898\n"
     ]
    }
   ],
   "source": [
    "distances = {}\n",
    "cities = []\n",
    "\n",
    "\n",
    "for line in input:\n",
    "    m = re.search(r\"(\\S+) to (\\S+) = (\\d+)\",line)\n",
    "    if m.group(1) not in cities:\n",
    "        cities.append(m.group(1))\n",
    "    if m.group(2) not in cities:\n",
    "        cities.append(m.group(2))    \n",
    "    path = (m.group(1),m.group(2))\n",
    "    dist = int(m.group(3))\n",
    "    distances[path] = dist\n",
    "    path = (m.group(2),m.group(1))\n",
    "    distances[path] = dist\n",
    "\n",
    "lowest = 1e12\n",
    "highest = 0\n",
    "for x in itertools.permutations(cities):\n",
    "    dist = 0\n",
    "    for i, city in enumerate(list(x)):\n",
    "        if city == x[-1]:\n",
    "            continue\n",
    "        dist += distances[(x[i],x[i+1])]\n",
    "\n",
    "    lowest = min(lowest,dist)\n",
    "    highest = max(highest,dist)\n",
    "print(lowest)\n",
    "print(highest)"
   ]
  }
 ],
 "metadata": {
  "kernelspec": {
   "display_name": "Python 3",
   "language": "python",
   "name": "python3"
  },
  "language_info": {
   "codemirror_mode": {
    "name": "ipython",
    "version": 3
   },
   "file_extension": ".py",
   "mimetype": "text/x-python",
   "name": "python",
   "nbconvert_exporter": "python",
   "pygments_lexer": "ipython3",
   "version": "3.11.1 (tags/v3.11.1:a7a450f, Dec  6 2022, 19:58:39) [MSC v.1934 64 bit (AMD64)]"
  },
  "orig_nbformat": 4,
  "vscode": {
   "interpreter": {
    "hash": "ccb1bbdea6c16a243991ab1fcf665bfb4d3899754165ecebf26033ef86109029"
   }
  }
 },
 "nbformat": 4,
 "nbformat_minor": 2
}
