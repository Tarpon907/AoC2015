{
 "cells": [
  {
   "attachments": {},
   "cell_type": "markdown",
   "metadata": {},
   "source": [
    "2015 Day 17\n",
    "\n",
    "https://adventofcode.com/2015/day/17"
   ]
  },
  {
   "attachments": {},
   "cell_type": "markdown",
   "metadata": {},
   "source": [
    "Part 1:\n",
    "We need to try all combination of jugs to find the ones that add up to 150.  For this, we set up an array with the jugs, and then set up another array that's a bitmask for the current combination we're checking.  Multiply them together, and take the sum.  See if it's 150\n",
    "\n",
    "Part 2:\n",
    "Add some code to part 1 to find the minimum number of jugs to hold 150, and keep a count of number of combinations that use each amount of jugs.  Print out the number of combinations used the minimum jugs."
   ]
  },
  {
   "cell_type": "code",
   "execution_count": 4,
   "metadata": {},
   "outputs": [],
   "source": [
    "import numpy as np\n",
    "import scipy as sp\n",
    "import re\n",
    "import time\n",
    "import itertools\n",
    "import string\n",
    "import collections\n",
    "import math\n",
    "import functools\n",
    "import copy\n",
    "import operator\n",
    "import sys\n",
    "import av\n",
    "import codecs\n",
    "import json\n",
    "from PIL import Image, ImageDraw, ImageFont"
   ]
  },
  {
   "cell_type": "code",
   "execution_count": 5,
   "metadata": {},
   "outputs": [],
   "source": [
    "input = [int(x) for x in open('input.txt', 'r').read().splitlines()]\n"
   ]
  },
  {
   "cell_type": "code",
   "execution_count": 9,
   "metadata": {},
   "outputs": [
    {
     "name": "stdout",
     "output_type": "stream",
     "text": [
      "[33 14 18 20 45 35 16 35  1 13 18 13 50 44 48  6 24 41 30 42]\n",
      "[0 0 0 0 0 0 0 0 0 0 0 0 0 0 0 0 0 0 0 0]\n",
      "part 1: 1304\n",
      "part 2: 18\n",
      "execution time (in ms):  9115.490674972534\n",
      "execution time (in ms):  9115.490674972534\n"
     ]
    }
   ],
   "source": [
    "start_time = time.time()\n",
    "\n",
    "combos = {}\n",
    "\n",
    "jugs = np.array(input)\n",
    "print(jugs)\n",
    "\n",
    "numjugs = len(jugs)\n",
    "\n",
    "mult = np.zeros(numjugs, dtype = int)\n",
    "\n",
    "print(np.multiply(jugs,mult))\n",
    "\n",
    "count = 0\n",
    "lo = 1e3\n",
    "for i in range(2**numjugs):\n",
    "    foo = i\n",
    "    mult.fill(0)\n",
    "    for j in range(numjugs):\n",
    "        mult[j] = foo % 2\n",
    "        foo //= 2\n",
    "    res = np.multiply(jugs,mult)\n",
    "    if np.sum(res) == 150:\n",
    "        cnt = np.count_nonzero(res)\n",
    "        combo_cnt = 0\n",
    "        if cnt in combos.keys():\n",
    "            combo_cnt = combos[cnt]\n",
    "        combos[cnt] = combo_cnt + 1\n",
    "#        print(np.count_nonzero(res))\n",
    "        lo = min(lo, np.count_nonzero(res))\n",
    "        count += 1\n",
    "#        print(i)\n",
    "#        print(np.multiply(jugs,mult))\n",
    "\n",
    "print(\"part 1:\",count)\n",
    "print(\"part 2:\",combos[lo])\n",
    "print(\"execution time (in ms): \",(time.time()-start_time)*1000) \n",
    "    \n",
    "\n",
    "\n",
    "\n"
   ]
  }
 ],
 "metadata": {
  "kernelspec": {
   "display_name": "Python 3",
   "language": "python",
   "name": "python3"
  },
  "language_info": {
   "codemirror_mode": {
    "name": "ipython",
    "version": 3
   },
   "file_extension": ".py",
   "mimetype": "text/x-python",
   "name": "python",
   "nbconvert_exporter": "python",
   "pygments_lexer": "ipython3",
   "version": "3.11.1"
  },
  "orig_nbformat": 4,
  "vscode": {
   "interpreter": {
    "hash": "ccb1bbdea6c16a243991ab1fcf665bfb4d3899754165ecebf26033ef86109029"
   }
  }
 },
 "nbformat": 4,
 "nbformat_minor": 2
}
