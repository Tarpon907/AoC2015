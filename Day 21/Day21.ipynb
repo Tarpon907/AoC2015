{
 "cells": [
  {
   "attachments": {},
   "cell_type": "markdown",
   "metadata": {},
   "source": [
    "2015 Day 21\n",
    "\n",
    "https://adventofcode.com/2015/day/21"
   ]
  },
  {
   "attachments": {},
   "cell_type": "markdown",
   "metadata": {},
   "source": [
    "Part 1: \n",
    "Make a dictionary for each type of gear containing cost, damage, and armor.  Create dummy gear with no cost and no stats for the case of not wearing gear (2 dummies for rings) to simplify the case of not buying the gear.  Iterate over combinations of gear and see if we win or lose, keeping track of cheapest win.\n",
    "\n",
    "Part 2:\n",
    "Also keep track of most expensive loss\n"
   ]
  },
  {
   "cell_type": "code",
   "execution_count": null,
   "metadata": {},
   "outputs": [],
   "source": [
    "import numpy as np\n",
    "import scipy as sp\n",
    "import re\n",
    "import time\n",
    "import itertools\n",
    "import string\n",
    "import collections\n",
    "import math\n",
    "import functools\n",
    "import copy\n",
    "import operator\n",
    "import sys\n",
    "import av\n",
    "import codecs\n",
    "import json\n",
    "from PIL import Image, ImageDraw, ImageFont"
   ]
  },
  {
   "cell_type": "code",
   "execution_count": null,
   "metadata": {},
   "outputs": [],
   "source": [
    "boss_hp = 104\n",
    "boss_ac = 1\n",
    "boss_dps = 8\n",
    "\n",
    "my_hp = 100\n",
    "\n",
    "inv_boss = 1/boss_hp\n",
    "inv_me = 1/my_hp\n"
   ]
  },
  {
   "cell_type": "code",
   "execution_count": null,
   "metadata": {},
   "outputs": [],
   "source": [
    "\n",
    "weapons = {\"dagger\" : {\"cost\": 8 , \"damage\" : 4, \"armor\" : 0},\n",
    "            \"shortsword\" : {\"cost\": 10, \"damage\" : 5, \"armor\" : 0},\n",
    "            \"warhammer\" : {\"cost\": 25, \"damage\" : 6, \"armor\" : 0},\n",
    "            \"longsword\" : {\"cost\": 40, \"damage\" : 7, \"armor\" : 0},\n",
    "            \"greataxe\" : {\"cost\": 74, \"damage\" : 8, \"armor\" : 0}}\n",
    "\n",
    "suits = {\" \" : {\"cost\": 0, \"damage\" : 0, \"armor\" : 0},\n",
    "            \"leather\" : {\"cost\": 13, \"damage\" : 0, \"armor\" : 1},\n",
    "            \"chain\" : {\"cost\": 31, \"damage\" : 0, \"armor\" : 2},\n",
    "            \"splint\" : {\"cost\": 53, \"damage\" : 0, \"armor\" : 3},\n",
    "            \"banded\" : {\"cost\": 75, \"damage\" : 0, \"armor\" : 4},\n",
    "            \"plate\" : {\"cost\": 102, \"damage\" : 0, \"armor\" : 5}}\n",
    "\n",
    "rings = {\" \" : {\"cost\": 0, \"damage\" : 0, \"armor\" : 0},\n",
    "            \"  \" : {\"cost\": 0, \"damage\" : 0, \"armor\" : 0},\n",
    "            \"dam1\" : {\"cost\": 25, \"damage\" : 1, \"armor\" : 0},\n",
    "            \"dam2\" : {\"cost\": 50, \"damage\" : 2, \"armor\" : 0},\n",
    "            \"dam3\" : {\"cost\": 100, \"damage\" : 3, \"armor\" : 0},\n",
    "            \"def1\" : {\"cost\": 20, \"damage\" : 0, \"armor\" : 1},\n",
    "            \"def2\" : {\"cost\": 40, \"damage\" : 0, \"armor\" : 2},\n",
    "            \"def3\" : {\"cost\": 80, \"damage\" : 0, \"armor\" : 3}}\n",
    "\n",
    "lowest = lowest2 = 1E5\n",
    "highest = 0\n",
    "for w in weapons:\n",
    "    for s in suits:\n",
    "        for r1 in rings:\n",
    "            for r2 in rings:\n",
    "                if r1 == r2:\n",
    "                    continue\n",
    "                cost = weapons[w][\"cost\"] + suits[s][\"cost\"] + rings[r1][\"cost\"] + rings[r2][\"cost\"]\n",
    "                take = max(boss_dps - weapons[w][\"armor\"] - suits[s][\"armor\"] - rings[r1][\"armor\"] - rings[r2][\"armor\"],1)\n",
    "                give = max(weapons[w][\"damage\"] + suits[s][\"damage\"] + rings[r1][\"damage\"] + rings[r2][\"damage\"] - boss_ac, 1)\n",
    "\n",
    "\n",
    "                dead_turns, d = divmod(my_hp, take)\n",
    "#                print(dead_turns)\n",
    "                dead_turns += (d != 0)\n",
    "#                print(dead_turns)\n",
    "\n",
    "#                print(\"take %d, means dead in %d\" % (take, dead_turns))\n",
    "\n",
    "                kill_turns, d = divmod(boss_hp, give)\n",
    "                kill_turns += (d != 0)\n",
    "\n",
    "                if kill_turns <= dead_turns and cost <= lowest2:\n",
    "                    print(\"cost: %d, (%d,%d): kill in %d, dead in %d\" % (cost, give, take, kill_turns, dead_turns))\n",
    "                    lowest2 = min(cost,lowest2)\n",
    "\n",
    "                if dead_turns < kill_turns and cost > highest:\n",
    "                    print(\"cost: %d, (%d,%d): kill in %d, dead in %d\" % (cost, give, take, kill_turns, dead_turns))\n",
    "                    highest = max(highest,cost)\n",
    "                    \n",
    "\n",
    "\n",
    "\n",
    "print(lowest2, highest)            \n",
    "\n",
    "\n",
    "\n"
   ]
  }
 ],
 "metadata": {
  "kernelspec": {
   "display_name": "Python 3",
   "language": "python",
   "name": "python3"
  },
  "language_info": {
   "codemirror_mode": {
    "name": "ipython",
    "version": 3
   },
   "file_extension": ".py",
   "mimetype": "text/x-python",
   "name": "python",
   "nbconvert_exporter": "python",
   "pygments_lexer": "ipython3",
   "version": "3.11.1 (tags/v3.11.1:a7a450f, Dec  6 2022, 19:58:39) [MSC v.1934 64 bit (AMD64)]"
  },
  "orig_nbformat": 4,
  "vscode": {
   "interpreter": {
    "hash": "ccb1bbdea6c16a243991ab1fcf665bfb4d3899754165ecebf26033ef86109029"
   }
  }
 },
 "nbformat": 4,
 "nbformat_minor": 2
}
