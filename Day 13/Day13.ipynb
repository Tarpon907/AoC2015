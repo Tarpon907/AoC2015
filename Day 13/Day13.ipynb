{
 "cells": [
  {
   "attachments": {},
   "cell_type": "markdown",
   "metadata": {},
   "source": [
    "2015 Day 3\n",
    "\n",
    "https://adventofcode.com/2015/day/14"
   ]
  },
  {
   "attachments": {},
   "cell_type": "markdown",
   "metadata": {},
   "source": [
    "Part 1:\n",
    "Read the input, create a dictionary with ordered pairs of guests and happiness difference.  Iterate over permutations.  Find total happiness\n",
    "\n",
    "Part 2:\n",
    "Add \"me\" to the table, with happiness 0 for every potential neighbor"
   ]
  },
  {
   "cell_type": "code",
   "execution_count": 2,
   "metadata": {},
   "outputs": [],
   "source": [
    "import numpy as np\n",
    "import scipy as sp\n",
    "import re\n",
    "import time\n",
    "import itertools\n",
    "import string\n",
    "import collections\n",
    "import math\n",
    "import functools\n",
    "import copy\n",
    "import operator\n",
    "import sys\n",
    "import av\n",
    "import codecs\n",
    "import json\n",
    "from PIL import Image, ImageDraw, ImageFont"
   ]
  },
  {
   "cell_type": "code",
   "execution_count": 3,
   "metadata": {},
   "outputs": [],
   "source": [
    "input = open('input.txt', 'r').read().splitlines()"
   ]
  },
  {
   "cell_type": "code",
   "execution_count": 13,
   "metadata": {},
   "outputs": [
    {
     "name": "stdout",
     "output_type": "stream",
     "text": [
      "640\n"
     ]
    }
   ],
   "source": [
    "guests = []\n",
    "data = {}\n",
    "\n",
    "part2 = True\n",
    "\n",
    "\n",
    "for line in input:\n",
    "    # Alice would lose 2 happiness units by sitting next to Bob.\n",
    "#    print(line)\n",
    "    m = re.search(r\"(\\S+) would (\\S+) (\\d+) happiness units by sitting next to (\\S+).\",line)\n",
    "\n",
    "    guest = m.group(1)\n",
    "    if guest not in guests:\n",
    "        guests.append(guest)\n",
    "    combo = (guest,m.group(4))\n",
    "    delta = int(m.group(3)) if m.group(2) == \"gain\" else -int(m.group(3))\n",
    "    data[combo] = delta\n",
    "\n",
    "#print(guests)\n",
    "\n",
    "if part2:\n",
    "    for i in guests:\n",
    "        c1 = (\"me\", i)\n",
    "        c2 = (i, \"me\")\n",
    "        data[c1] = data[c2] = 0\n",
    "    guests.append(\"me\")\n",
    "\n",
    "numguests = len(guests)\n",
    "best = 0\n",
    "checked = set()\n",
    "for combos in list(itertools.permutations(guests)):\n",
    "#    print(combos)\n",
    "    new_c = list(copy.deepcopy(combos))\n",
    "    happiness = 0\n",
    "    for i, guest in enumerate(combos):\n",
    "        c1 = (guest,combos[(i+1)%numguests])\n",
    "        c2 = (c1[1],c1[0])\n",
    "#        print(c1, c2)\n",
    "        happiness += data[c1] + data[c2]\n",
    "    best = max(best,happiness)\n",
    "    for i in range(numguests):\n",
    "        checked.add(tuple(new_c))\n",
    "        new_c.append(new_c.pop(0))\n",
    "    \n",
    "print(best)\n",
    "    \n",
    "\n",
    "\n"
   ]
  }
 ],
 "metadata": {
  "kernelspec": {
   "display_name": "Python 3",
   "language": "python",
   "name": "python3"
  },
  "language_info": {
   "codemirror_mode": {
    "name": "ipython",
    "version": 3
   },
   "file_extension": ".py",
   "mimetype": "text/x-python",
   "name": "python",
   "nbconvert_exporter": "python",
   "pygments_lexer": "ipython3",
   "version": "3.11.1 (tags/v3.11.1:a7a450f, Dec  6 2022, 19:58:39) [MSC v.1934 64 bit (AMD64)]"
  },
  "orig_nbformat": 4,
  "vscode": {
   "interpreter": {
    "hash": "ccb1bbdea6c16a243991ab1fcf665bfb4d3899754165ecebf26033ef86109029"
   }
  }
 },
 "nbformat": 4,
 "nbformat_minor": 2
}
