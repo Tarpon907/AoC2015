{
 "cells": [
  {
   "attachments": {},
   "cell_type": "markdown",
   "metadata": {},
   "source": [
    "2015 Day 3\n",
    "\n",
    "https://adventofcode.com/2015/day/3"
   ]
  },
  {
   "attachments": {},
   "cell_type": "markdown",
   "metadata": {},
   "source": [
    "We are going to represent locations using complex numbers.  The real part is our X position, and the imaginary part is our Y position.\n",
    "Put the possible directions in a string \">v<^\" and use the index() function of that with a direction in order to get the index into our delta list which tells us what to add to our current location.\n",
    "\n",
    "Part 1:\n",
    "Just iterate over the input, moving santa around based on the direction given\n",
    "\n",
    "Part 2:\n",
    "Same as part 1, but keep track of two locations, and take the current instruction index, mod 2, to determine which one we move.\n"
   ]
  },
  {
   "cell_type": "code",
   "execution_count": 62,
   "metadata": {},
   "outputs": [],
   "source": [
    "import numpy as np\n",
    "import scipy as sp\n",
    "import re\n",
    "import time\n",
    "import itertools\n",
    "import string\n",
    "import collections\n",
    "import math\n",
    "import functools\n",
    "import copy\n",
    "import operator\n",
    "import sys\n",
    "import av\n",
    "from PIL import Image, ImageDraw, ImageFont"
   ]
  },
  {
   "cell_type": "code",
   "execution_count": 63,
   "metadata": {},
   "outputs": [],
   "source": [
    "input = open('input.txt', 'r').read()\n",
    "\n",
    "\n",
    "viz = False\n",
    "container1 = av.open(\"viz/2015 - Day 3-1.mp4\", mode=\"w\")\n",
    "stream1 = container1.add_stream(\"mpeg4\", rate=100)\n",
    "stream1.width = 400\n",
    "stream1.height = 620\n",
    "\n",
    "container2 = av.open(\"viz/2015 - Day 3-2.mp4\", mode=\"w\")\n",
    "stream2 = container2.add_stream(\"mpeg4\", rate=100)\n",
    "stream2.width = 400\n",
    "stream2.height = 620\n",
    "\n",
    "hi_x = lo_x = hi_y = lo_y = 0\n",
    "\n",
    "dirs = \">v<^\"\n",
    "delta = [1+0j,0+1j,-1+0j,0-1j]\n",
    "visited = set()\n",
    "foo = set()\n",
    "location = [0+0j, 0+0j]\n",
    "visited.add(location[0])\n",
    "\n",
    "frame_list = []\n"
   ]
  },
  {
   "cell_type": "code",
   "execution_count": 64,
   "metadata": {},
   "outputs": [],
   "source": [
    "def draw_frame(location, visited, isPart2 = False):\n",
    "    global frame_list\n",
    "    im = Image.new(\"P\",(400,620),color=(0,0,0))\n",
    "        \n",
    "    font = ImageFont.truetype(\"arial.ttf\", size = 16, encoding=\"unic\")\n",
    "    font2 = ImageFont.truetype(\"arial.ttf\", size = 14, encoding=\"unic\")\n",
    "\n",
    "    draw = ImageDraw.Draw(im)\n",
    "\n",
    "    SCALE = 4\n",
    "    MIN_X = -40\n",
    "    MIN_Y = -25\n",
    "    \n",
    "    for i in visited:\n",
    "        x_min = (int(i.real) - MIN_X) * SCALE\n",
    "        y_min = (int(i.imag) - MIN_Y) * SCALE\n",
    "\n",
    "        draw.ellipse([(x_min,y_min), (x_min+3,y_min+3)], fill = (50,50,50), outline = (50,50,50))\n",
    "\n",
    "\n",
    "    for i, position in enumerate(location):\n",
    " \n",
    "        x_min = (int(position.real) - MIN_X) * SCALE\n",
    "        y_min = (int(position.imag) - MIN_Y) * SCALE\n",
    "        color = (255,0,0) if i == 0 else (0,255,0)\n",
    "        draw.ellipse([(x_min,y_min), (x_min+3,y_min+3)], fill = color, outline = color)\n",
    "\n",
    "       \n",
    "    draw.text((200, 30), \"AoC 2015 - Day 3\", fill = (255,255,255), font=font)\n",
    "    draw.text((200, 80), \"visited: %d\" % len(visited), fill = (255,255,255), font = font)\n",
    "\n",
    "\n",
    "\n",
    "    frame = av.VideoFrame.from_image(im)\n",
    "    frame_list.append(im)\n",
    "    \n",
    "\n",
    "#    for i in range(1 if not end else 60):\n",
    "#        frame_list.append(im)\n",
    "#        for packet in stream.encode(frame):\n",
    "#            container.mux(packet)\n",
    "            \n",
    "    \n",
    "\n",
    "#    im.save('viz/frame_%05d.bmp' % count)\n",
    "\n"
   ]
  },
  {
   "cell_type": "code",
   "execution_count": 65,
   "metadata": {},
   "outputs": [
    {
     "name": "stdout",
     "output_type": "stream",
     "text": [
      "part1:  2592\n",
      "x min / max: -26 / 55\n",
      "y min / max: -17 / 127\n"
     ]
    }
   ],
   "source": [
    "\n",
    "\n",
    "for dir in input:\n",
    "    d_i = dirs.index(dir)\n",
    "    location[0] += delta[d_i]\n",
    "    visited.add(location[0])\n",
    "    foo.add(location[0])\n",
    "    if viz:\n",
    "        draw_frame(location,visited)\n",
    "\n",
    "print(\"part1: \", len(visited))\n",
    "print(\"x min / max: %d / %d\" % (min([int(x.real) for x in visited]), max([int(x.real) for x in visited])))\n",
    "print(\"y min / max: %d / %d\" % (min([int(x.imag) for x in visited]), max([int(x.imag) for x in visited])))\n",
    "\n",
    "\n",
    "if viz:\n",
    "    #im = frame_list.pop(0)\n",
    "    #im.save(\"viz/part1.gif\", save_all = True, append_images = frame_list,duration = 30)\n",
    "\n",
    "    for im in frame_list:\n",
    "        frame = av.VideoFrame.from_image(im)\n",
    "\n",
    "        for packet in stream1.encode(frame):\n",
    "            container1.mux(packet)\n",
    "        \n",
    "    container1.close()\n",
    "\n"
   ]
  },
  {
   "cell_type": "code",
   "execution_count": 66,
   "metadata": {},
   "outputs": [
    {
     "name": "stdout",
     "output_type": "stream",
     "text": [
      "part2:  2360\n",
      "x min / max: -39 / 55\n",
      "y min / max: -23 / 127\n"
     ]
    }
   ],
   "source": [
    "\n",
    "visited = set()\n",
    "location = [0+0j, 0+0j]\n",
    "frame_list = []\n",
    "\n",
    "for i, dir in enumerate(input):\n",
    "    d_i = dirs.index(dir)\n",
    "    location[i%2] += delta[d_i]\n",
    "    visited.add(location[i%2])\n",
    "    foo.add(location[i%2])\n",
    "    if viz:\n",
    "        draw_frame(location,visited, True)\n",
    "\n",
    "print(\"part2: \", len(visited))\n",
    "\n",
    "print(\"x min / max: %d / %d\" % (min([int(x.real) for x in foo]), max([int(x.real) for x in foo])))\n",
    "print(\"y min / max: %d / %d\" % (min([int(x.imag) for x in foo]), max([int(x.imag) for x in foo])))\n",
    "\n",
    "\n",
    "\n",
    "\n",
    "if viz:\n",
    "    #frame_list[0].save(\"viz/part2.gif\", save_all = True, append_images = frame_list[1:],duration = 30)\n",
    "    for im in frame_list:\n",
    "        frame = av.VideoFrame.from_image(im)\n",
    "\n",
    "        for packet in stream2.encode(frame):\n",
    "            container2.mux(packet)\n",
    "        \n",
    "    container2.close()\n"
   ]
  }
 ],
 "metadata": {
  "kernelspec": {
   "display_name": "Python 3",
   "language": "python",
   "name": "python3"
  },
  "language_info": {
   "codemirror_mode": {
    "name": "ipython",
    "version": 3
   },
   "file_extension": ".py",
   "mimetype": "text/x-python",
   "name": "python",
   "nbconvert_exporter": "python",
   "pygments_lexer": "ipython3",
   "version": "3.11.1 (tags/v3.11.1:a7a450f, Dec  6 2022, 19:58:39) [MSC v.1934 64 bit (AMD64)]"
  },
  "orig_nbformat": 4,
  "vscode": {
   "interpreter": {
    "hash": "ccb1bbdea6c16a243991ab1fcf665bfb4d3899754165ecebf26033ef86109029"
   }
  }
 },
 "nbformat": 4,
 "nbformat_minor": 2
}
