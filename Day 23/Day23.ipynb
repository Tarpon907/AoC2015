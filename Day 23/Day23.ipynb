{
 "cells": [
  {
   "attachments": {},
   "cell_type": "markdown",
   "metadata": {},
   "source": [
    "2015 Day 23\n",
    "\n",
    "https://adventofcode.com/2015/day/23"
   ]
  },
  {
   "attachments": {},
   "cell_type": "markdown",
   "metadata": {},
   "source": [
    "This one was really straightforward.  Parse the input, process the input based on the rules.  For part 2, just start with different initial values.\n",
    "\n"
   ]
  },
  {
   "cell_type": "code",
   "execution_count": 1,
   "metadata": {},
   "outputs": [],
   "source": [
    "import numpy as np\n",
    "import scipy as sp\n",
    "import re\n",
    "import time\n",
    "import itertools\n",
    "import string\n",
    "import collections\n",
    "import math\n",
    "import functools\n",
    "import copy\n",
    "import operator\n",
    "import sys\n",
    "import av\n",
    "import codecs\n",
    "import json\n",
    "import heapq\n",
    "from PIL import Image, ImageDraw, ImageFont"
   ]
  },
  {
   "cell_type": "code",
   "execution_count": 2,
   "metadata": {},
   "outputs": [],
   "source": [
    "instructions = open('input.txt', 'r').read().splitlines()\n"
   ]
  },
  {
   "cell_type": "code",
   "execution_count": 3,
   "metadata": {},
   "outputs": [],
   "source": [
    "def process_input(instructions, value):\n",
    "    \n",
    "    index = 0\n",
    "    while index >= 0 and index < len(instructions):\n",
    "        instruction = instructions[index]\n",
    "    #    print(index, instruction)\n",
    "        if instruction.find(\",\") != -1:\n",
    "            b_c, a_c = instruction.split(\",\")\n",
    "            inst, a_s, _ = instruction.split(\" \")\n",
    "        else:\n",
    "            inst, a_s = instruction.split(\" \")\n",
    "        register = instruction[4]\n",
    "        match inst:\n",
    "            case \"hlf\":\n",
    "                value[register] = value[register] / 2\n",
    "                index += 1\n",
    "            case \"tpl\":\n",
    "                value[register] = value[register] * 3\n",
    "                index += 1\n",
    "            case \"inc\":\n",
    "                value[register] = value[register] + 1\n",
    "                index += 1\n",
    "            case \"jmp\":\n",
    "                index += int(a_s)\n",
    "            case \"jie\":\n",
    "                if value[register] % 2 == 0:\n",
    "                    index += int(a_c)\n",
    "                else:\n",
    "                    index += 1\n",
    "            case \"jio\":\n",
    "                if value[register] == 1:\n",
    "                    index += int(a_c)\n",
    "                else:\n",
    "                    index += 1\n",
    "    return value    \n"
   ]
  },
  {
   "cell_type": "code",
   "execution_count": 4,
   "metadata": {},
   "outputs": [
    {
     "name": "stdout",
     "output_type": "stream",
     "text": [
      "{'a': 1.0, 'b': 255}\n",
      "{'a': 1.0, 'b': 334}\n"
     ]
    }
   ],
   "source": [
    "\n",
    "\n",
    "print(process_input(instructions, {\"a\" : 0, \"b\" : 0}))\n",
    "\n",
    "print(process_input(instructions, {\"a\" : 1, \"b\" : 0}))\n",
    "\n"
   ]
  }
 ],
 "metadata": {
  "kernelspec": {
   "display_name": "Python 3",
   "language": "python",
   "name": "python3"
  },
  "language_info": {
   "codemirror_mode": {
    "name": "ipython",
    "version": 3
   },
   "file_extension": ".py",
   "mimetype": "text/x-python",
   "name": "python",
   "nbconvert_exporter": "python",
   "pygments_lexer": "ipython3",
   "version": "3.11.1"
  },
  "orig_nbformat": 4,
  "vscode": {
   "interpreter": {
    "hash": "ccb1bbdea6c16a243991ab1fcf665bfb4d3899754165ecebf26033ef86109029"
   }
  }
 },
 "nbformat": 4,
 "nbformat_minor": 2
}
