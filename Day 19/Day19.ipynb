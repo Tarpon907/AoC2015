{
 "cells": [
  {
   "attachments": {},
   "cell_type": "markdown",
   "metadata": {},
   "source": [
    "2015 Day 19\n",
    "\n",
    "https://adventofcode.com/2015/day/19"
   ]
  },
  {
   "attachments": {},
   "cell_type": "markdown",
   "metadata": {},
   "source": [
    "Part 1: figure out which atoms can be replaced.  Iterate over the molecule and try replacements.  Keep track of uniques using a set.\n",
    "\n",
    "Part 2:  See below"
   ]
  },
  {
   "cell_type": "code",
   "execution_count": null,
   "metadata": {},
   "outputs": [],
   "source": [
    "import numpy as np\n",
    "import scipy as sp\n",
    "import re\n",
    "import time\n",
    "import itertools\n",
    "import string\n",
    "import collections\n",
    "import math\n",
    "import functools\n",
    "import copy\n",
    "import operator\n",
    "import sys\n",
    "import av\n",
    "import codecs\n",
    "import json\n",
    "from PIL import Image, ImageDraw, ImageFont"
   ]
  },
  {
   "cell_type": "code",
   "execution_count": null,
   "metadata": {},
   "outputs": [],
   "source": [
    "rule_data,molecule = open('input.txt', 'r').read().split(\"\\n\\n\")\n",
    "\n",
    "replist = \"\"\n",
    "inv_rules = {}"
   ]
  },
  {
   "cell_type": "code",
   "execution_count": null,
   "metadata": {},
   "outputs": [],
   "source": [
    "\n",
    "start_time = time.time()\n",
    "\n",
    "rules = dict()\n",
    "uniques = set()\n",
    "\n",
    "rulecount = 0\n",
    "\n",
    "for line in rule_data.splitlines():\n",
    "#    print(line)\n",
    "    m = re.search(r\"(\\S+) => (\\S+)\",line)\n",
    "    atom, replace = m.group(1),m.group(2)\n",
    "    rulecount += 1\n",
    "    if atom in rules.keys():\n",
    "        rules[atom] = rules[atom] + [replace]\n",
    "    else:\n",
    "        rules[atom] = [replace]\n",
    "\n",
    "\n",
    "\n",
    "atomlist = \"\"\n",
    "replist = \"\"\n",
    "inv_rules = {}\n",
    "\n",
    "for c in rules.keys():\n",
    "    atomlist += c + \"|\"\n",
    "    for d in rules[c]:\n",
    "        replist += d + \"|\"\n",
    "        inv_rules[d] = c\n",
    "atomlist = atomlist[:-1]\n",
    "replist = replist[:-1]\n",
    "\n",
    "\n",
    "atom_iter = re.finditer(\"(%s)\" % atomlist, molecule)\n",
    "\n",
    "for check in atom_iter:\n",
    "    key, index, size = check.group(), check.start(), len(check.group())\n",
    "    for replacement in rules[key]:\n",
    "        new_mol = molecule[:index] + replacement + molecule[index+size:]\n",
    "\n",
    "        uniques.add(new_mol)\n",
    "\n",
    "\n",
    "print(\"part1:\", len(uniques))\n",
    "\n"
   ]
  },
  {
   "attachments": {},
   "cell_type": "markdown",
   "metadata": {},
   "source": [
    "OK, Some magic for part 2 because of our input\n",
    "\n",
    "Let's define some terms.\n",
    "Regular atoms (not Y, Ar, or Rn)\n",
    "Rn and Ar\n",
    "and Y\n",
    "\n",
    "If you have 2 regular atoms next to each other, they collapse into a single atom  So, if you had a string of N regular atoms,\n",
    "it would collapse down to e in N-1 steps.\n",
    "\n",
    "Now all the rules that have Ar and Rn (but not Y) (like Ca => SiRnMgAr) collapse from 2 regular atoms plus Ar and Rn down to 1\n",
    "so we need to subtract the Rn and Ar from our steps.  So now it's N - ArRn - 1\n",
    "\n",
    "And finally if a rule has Y it's in the form H => CRnFYFYFAr are the same as above, plus 2 Ys.  So now, our steps are\n",
    "N - ArRn - 2*Ys - 1\n"
   ]
  },
  {
   "cell_type": "code",
   "execution_count": null,
   "metadata": {},
   "outputs": [],
   "source": [
    "\n",
    "\n",
    "tokenlist = atomlist[:-1] + \"Y|Ar|Rn|C\"\n",
    "\n",
    "print(tokenlist)\n",
    "\n",
    "\n",
    "tokens = len(re.findall(tokenlist, molecule))\n",
    "Ys = len(re.findall(r\"Y\", molecule))\n",
    "ArRn = len(re.findall(r\"Ar|Rn\", molecule))\n",
    "\n",
    "print(\"part 2:\", tokens - ArRn - 2*Ys - 1)\n",
    "\n",
    "\n",
    "\n",
    "print(\"execution time (in ms): \",(time.time()-start_time)*1000) "
   ]
  }
 ],
 "metadata": {
  "kernelspec": {
   "display_name": "Python 3",
   "language": "python",
   "name": "python3"
  },
  "language_info": {
   "codemirror_mode": {
    "name": "ipython",
    "version": 3
   },
   "file_extension": ".py",
   "mimetype": "text/x-python",
   "name": "python",
   "nbconvert_exporter": "python",
   "pygments_lexer": "ipython3",
   "version": "3.11.1"
  },
  "orig_nbformat": 4,
  "vscode": {
   "interpreter": {
    "hash": "ccb1bbdea6c16a243991ab1fcf665bfb4d3899754165ecebf26033ef86109029"
   }
  }
 },
 "nbformat": 4,
 "nbformat_minor": 2
}
