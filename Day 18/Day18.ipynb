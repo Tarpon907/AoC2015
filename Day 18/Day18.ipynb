{
 "cells": [
  {
   "attachments": {},
   "cell_type": "markdown",
   "metadata": {},
   "source": [
    "2015 Day 18\n",
    "\n",
    "https://adventofcode.com/2015/day/18"
   ]
  },
  {
   "attachments": {},
   "cell_type": "markdown",
   "metadata": {},
   "source": [
    "Game of Life.\n",
    "\n",
    "Part 1: implement life\n",
    "\n",
    "Part 2: Keep the specified pixels on"
   ]
  },
  {
   "cell_type": "code",
   "execution_count": 2,
   "metadata": {},
   "outputs": [],
   "source": [
    "import numpy as np\n",
    "import scipy as sp\n",
    "import re\n",
    "import time\n",
    "import itertools\n",
    "import string\n",
    "import collections\n",
    "import math\n",
    "import functools\n",
    "import copy\n",
    "import operator\n",
    "import sys\n",
    "import av\n",
    "import codecs\n",
    "import json\n",
    "from PIL import Image, ImageDraw, ImageFont"
   ]
  },
  {
   "cell_type": "code",
   "execution_count": 10,
   "metadata": {},
   "outputs": [],
   "source": [
    "input = open('input.txt', 'r').read().splitlines()\n",
    "\n",
    "viz = False\n",
    "frame_list = []\n"
   ]
  },
  {
   "cell_type": "code",
   "execution_count": 18,
   "metadata": {},
   "outputs": [],
   "source": [
    "\n",
    "def draw_frame(a):\n",
    "\n",
    "    factor = 8\n",
    "\n",
    "    new_a = a.astype(dtype=np.uint8)\n",
    "\n",
    "    new_a = np.where(a, -1, 0).astype(dtype=np.uint8)\n",
    "\n",
    "\n",
    "        \n",
    "    im = Image.fromarray(new_a, mode = \"L\")\n",
    "\n",
    "    im2 = im.resize(tuple([factor*x for x in a.shape]))\n",
    "\n",
    "    draw_frame.count += 1\n",
    "\n",
    "    frame_list.append(im2)\n",
    "\n",
    "draw_frame.count = 0"
   ]
  },
  {
   "cell_type": "code",
   "execution_count": 16,
   "metadata": {},
   "outputs": [],
   "source": [
    "def write_frame(a):\n",
    "\n",
    "    factor = 8\n",
    "\n",
    "    new_a = a.astype(dtype=np.uint8)\n",
    "\n",
    "    new_a = np.where(a, -1, 0).astype(dtype=np.uint8)\n",
    "\n",
    "\n",
    "        \n",
    "    im = Image.fromarray(new_a, mode = \"L\")\n",
    "\n",
    "    im2 = im.resize(tuple([factor*x for x in a.shape]))\n",
    "    im2.save(\"viz/frame_%05d.bmp\" % draw_frame.count)\n",
    "\n",
    "    draw_frame.count += 1\n",
    "\n",
    "    frame_list.append(im)"
   ]
  },
  {
   "cell_type": "code",
   "execution_count": 23,
   "metadata": {},
   "outputs": [
    {
     "name": "stdout",
     "output_type": "stream",
     "text": [
      "781\n",
      "execution time (in ms):  7418.141841888428\n"
     ]
    }
   ],
   "source": [
    "\n",
    "start_time = time.time()\n",
    "\n",
    "STEPS = 100\n",
    "part1 = False\n",
    "viz = False\n",
    "frame_list = []\n",
    "\n",
    "grid = np.zeros((102,102), dtype = bool)\n",
    "overlay = np.ones((3,3),dtype=bool)\n",
    "overlay[1,1] = False\n",
    "#print(overlay)\n",
    "#print(np.sum(overlay))\n",
    "\n",
    "\n",
    "\n",
    "for i, line in enumerate(input):\n",
    "    for j, char in enumerate(line):\n",
    "        grid[i+1,j+1] = True if char == \"#\" else False\n",
    "\n",
    "if viz:\n",
    "    draw_frame(grid)\n",
    "\n",
    "#print(grid[75:78,75:78])\n",
    "#print(np.bitwise_and(overlay,grid[75:78,75:78]))\n",
    "\n",
    "\n",
    "for step in range(STEPS):\n",
    "    newgrid = np.zeros((102,102),dtype = bool)\n",
    "    for r,c in itertools.product(range(1,101), repeat=2):\n",
    "\n",
    "        \n",
    "        neighbors = np.sum(np.bitwise_and(overlay,grid[r-1:r+2,c-1:c+2]))\n",
    "        if grid[r,c]:\n",
    "            newgrid[r,c] = neighbors == 2 or neighbors == 3\n",
    "        else:\n",
    "            newgrid[r,c] = neighbors == 3\n",
    "\n",
    "    newgrid[1,1] = newgrid[1,100] = newgrid[100,100] = newgrid[100,1] = not part1\n",
    "    grid = newgrid\n",
    "    if viz:\n",
    "        draw_frame(grid)\n",
    "\n",
    "print(grid.sum())\n",
    "\n",
    "if viz:\n",
    "\n",
    "    frame_list[0].save(\"viz/%s.gif\" % (\"part1\" if part1 else \"part2\"), save_all = True, append_images = frame_list[1:])\n",
    "\n",
    "print(\"execution time (in ms): \",(time.time()-start_time)*1000) "
   ]
  }
 ],
 "metadata": {
  "kernelspec": {
   "display_name": "Python 3",
   "language": "python",
   "name": "python3"
  },
  "language_info": {
   "codemirror_mode": {
    "name": "ipython",
    "version": 3
   },
   "file_extension": ".py",
   "mimetype": "text/x-python",
   "name": "python",
   "nbconvert_exporter": "python",
   "pygments_lexer": "ipython3",
   "version": "3.11.1 (tags/v3.11.1:a7a450f, Dec  6 2022, 19:58:39) [MSC v.1934 64 bit (AMD64)]"
  },
  "orig_nbformat": 4,
  "vscode": {
   "interpreter": {
    "hash": "ccb1bbdea6c16a243991ab1fcf665bfb4d3899754165ecebf26033ef86109029"
   }
  }
 },
 "nbformat": 4,
 "nbformat_minor": 2
}
