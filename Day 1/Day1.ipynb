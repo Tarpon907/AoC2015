{
 "cells": [
  {
   "attachments": {},
   "cell_type": "markdown",
   "metadata": {},
   "source": [
    "2015 Day 1\n",
    "\n",
    "\n",
    "\n",
    "https://adventofcode.com/2015/day/1"
   ]
  },
  {
   "attachments": {},
   "cell_type": "markdown",
   "metadata": {},
   "source": [
    "Part 1:\n",
    "This one is pretty easy.  We'll just keep a value of the current floor as we read each character and increment or decrement accordingly.\n",
    "\n",
    "Part2 :\n",
    "Also, keep track of the index into the input file, and when our floor drops below zero, make a note of the index\n"
   ]
  },
  {
   "cell_type": "code",
   "execution_count": 53,
   "metadata": {},
   "outputs": [],
   "source": [
    "\n",
    "\n",
    "import numpy as np\n",
    "import scipy as sp\n",
    "import re\n",
    "import time\n",
    "import itertools\n",
    "import string\n",
    "import collections\n",
    "import math\n",
    "import functools\n",
    "import copy\n",
    "import operator\n",
    "import sys\n",
    "import av\n",
    "from PIL import Image, ImageDraw, ImageFont\n"
   ]
  },
  {
   "cell_type": "code",
   "execution_count": 54,
   "metadata": {},
   "outputs": [],
   "source": [
    "# Read our data and initialize our visualization stuff\n",
    "\n",
    "container = av.open(\"viz/2015 - Day 1.mp4\", mode=\"w\")\n",
    "stream = container.add_stream(\"mpeg4\", rate=100)\n",
    "stream.width = 400\n",
    "stream.height = 1100\n",
    "frame_list = []\n",
    "\n",
    "\n",
    "input = open('input.txt', 'r').read()\n",
    "\n",
    "\n"
   ]
  },
  {
   "cell_type": "code",
   "execution_count": 55,
   "metadata": {},
   "outputs": [],
   "source": [
    "def draw_frame(position, count, end = False):\n",
    "\n",
    "    im = Image.new(\"P\",(400,1100),color=(0,0,0))\n",
    "    OFFSET = 300\n",
    "\n",
    "    if position <= 0 and draw_frame.basement == 0:\n",
    "        draw_frame.basement = count\n",
    "\n",
    "    if count % 40 != 0 and not end:\n",
    "        return\n",
    "        \n",
    "    font = ImageFont.truetype(\"arial.ttf\", size = 28, encoding=\"unic\")\n",
    "    font2 = ImageFont.truetype(\"arial.ttf\", size = 14, encoding=\"unic\")\n",
    "\n",
    "    draw = ImageDraw.Draw(im)\n",
    "    draw.line([(0,  OFFSET - position), (100,OFFSET - position)], fill = (255,255,255), width = 5)\n",
    "    draw.line([(0,0),(0,1099)], fill = (100,100,100), width = 1)\n",
    "    draw.line([(100,0),(100,1099)], fill = (100,100,100), width = 1)\n",
    "\n",
    "    for i in range(-700,300,100):\n",
    "        draw.line([(0,OFFSET - i), (100,OFFSET - i)], fill = (100,100,100))\n",
    "        draw.text((150, OFFSET - i - 14), str(i), fill = (100,100,100),font=font)\n",
    "\n",
    "    draw.text((120, 30), \"AoC 2015 - Day 1\", fill = (255,255,255), font=font)\n",
    "    draw.text((110,OFFSET - 70), \"current floor: %d\" % position, fill = (255,255,255), font = font)\n",
    "#    draw.text((110,OFFSET - 170), \"index: %d\" % count, fill = (255,255,255), font = font)\n",
    "    if draw_frame.basement != 0:\n",
    "        draw.text((110, OFFSET + 30), \"basement at: %d\" % draw_frame.basement, fill = (200,200,200), font = font)\n",
    "\n",
    "\n",
    "\n",
    "\n",
    "    frame = av.VideoFrame.from_image(im)\n",
    "\n",
    "    for i in range(1 if not end else 60):\n",
    "        frame_list.append(im)\n",
    "        for packet in stream.encode(frame):\n",
    "            container.mux(packet)\n",
    "            \n",
    "    \n",
    "\n",
    "#    im.save('viz/frame_%05d.bmp' % count)\n",
    "\n"
   ]
  },
  {
   "cell_type": "code",
   "execution_count": 56,
   "metadata": {},
   "outputs": [
    {
     "name": "stdout",
     "output_type": "stream",
     "text": [
      "basement on instruction 1795\n",
      "Santa ends on floor 74\n",
      "min: -708, max: 200\n",
      "execution time (in ms):  2101.4482975006104\n"
     ]
    }
   ],
   "source": [
    "start_time = time.time()\n",
    "\n",
    "\n",
    "hi,lo = 0,0\n",
    "\n",
    "draw_frame.basement = 0\n",
    "draw_frame(0,0)\n",
    "\n",
    "santa = 0\n",
    "basement = False\n",
    "for i, char in enumerate(input):\n",
    "\n",
    "    santa += 1 if char == \"(\" else -1\n",
    "    lo = min(lo,santa)\n",
    "    hi = max(hi,santa)\n",
    "\n",
    "    if santa < 0 and not basement:\n",
    "        print(\"basement on instruction %d\" % (i+1))\n",
    "        basement = True\n",
    "\n",
    "    draw_frame(santa,i)\n",
    "\n",
    "draw_frame(santa,i, end = True)\n",
    "\n",
    "print(\"Santa ends on floor %d\" % (santa))\n",
    "\n",
    "print(\"min: %d, max: %d\" % (lo,hi))\n",
    "\n",
    "container.close()\n",
    "\n",
    "im = frame_list.pop(0)\n",
    "im.save(\"viz/output.gif\", save_all = True, append_images = frame_list)\n",
    " \n",
    "print(\"execution time (in ms): \",(time.time()-start_time)*1000) "
   ]
  }
 ],
 "metadata": {
  "kernelspec": {
   "display_name": "Python 3",
   "language": "python",
   "name": "python3"
  },
  "language_info": {
   "codemirror_mode": {
    "name": "ipython",
    "version": 3
   },
   "file_extension": ".py",
   "mimetype": "text/x-python",
   "name": "python",
   "nbconvert_exporter": "python",
   "pygments_lexer": "ipython3",
   "version": "3.11.1"
  },
  "orig_nbformat": 4,
  "vscode": {
   "interpreter": {
    "hash": "ccb1bbdea6c16a243991ab1fcf665bfb4d3899754165ecebf26033ef86109029"
   }
  }
 },
 "nbformat": 4,
 "nbformat_minor": 2
}
