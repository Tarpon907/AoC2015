{
 "cells": [
  {
   "cell_type": "code",
   "execution_count": 1,
   "metadata": {},
   "outputs": [],
   "source": [
    "import numpy as np\n",
    "import scipy as sp\n",
    "import re\n",
    "import time\n",
    "import itertools\n",
    "import string\n",
    "import collections\n",
    "import math\n",
    "import functools\n",
    "import copy\n",
    "import operator\n",
    "import sys\n",
    "import av\n",
    "from PIL import Image, ImageDraw, ImageFont\n",
    "import hashlib"
   ]
  },
  {
   "cell_type": "code",
   "execution_count": 7,
   "metadata": {},
   "outputs": [
    {
     "name": "stdout",
     "output_type": "stream",
     "text": [
      "9962624\n"
     ]
    }
   ],
   "source": [
    "key = \"yzbqklnj\"\n",
    "\n",
    "\n",
    "found5 = False\n",
    "found6 = False\n",
    "i = 1\n",
    "while not found5 or not found6:\n",
    "    str1 = key + str(i)\n",
    "    hash = hashlib.md5(str1.encode('utf-8')).hexdigest()\n",
    "    if hash[0:5] == \"00000\" and not found5:\n",
    "        found5 = True\n",
    "        print(\"00000:\", i)\n",
    "    if hash[0:6] == \"000000\":\n",
    "        found6 = True\n",
    "        print(\"000000:\", i)\n",
    "    i += 1\n",
    "\n",
    "\n"
   ]
  }
 ],
 "metadata": {
  "kernelspec": {
   "display_name": "Python 3",
   "language": "python",
   "name": "python3"
  },
  "language_info": {
   "codemirror_mode": {
    "name": "ipython",
    "version": 3
   },
   "file_extension": ".py",
   "mimetype": "text/x-python",
   "name": "python",
   "nbconvert_exporter": "python",
   "pygments_lexer": "ipython3",
   "version": "3.11.1 (tags/v3.11.1:a7a450f, Dec  6 2022, 19:58:39) [MSC v.1934 64 bit (AMD64)]"
  },
  "orig_nbformat": 4,
  "vscode": {
   "interpreter": {
    "hash": "ccb1bbdea6c16a243991ab1fcf665bfb4d3899754165ecebf26033ef86109029"
   }
  }
 },
 "nbformat": 4,
 "nbformat_minor": 2
}
