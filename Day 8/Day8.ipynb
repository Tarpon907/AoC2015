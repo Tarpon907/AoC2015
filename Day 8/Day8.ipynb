{
 "cells": [
  {
   "attachments": {},
   "cell_type": "markdown",
   "metadata": {},
   "source": [
    "2015 Day 8\n",
    "\n",
    "https://adventofcode.com/2015/day/8\n"
   ]
  },
  {
   "attachments": {},
   "cell_type": "markdown",
   "metadata": {},
   "source": [
    "Part1:\n",
    "iterate over the code, counting the characters, but only counting 1 for \\\" or \\\\ while advancing 2, or advancing 4 for \\xFF\n",
    "\n",
    "Part2:\n",
    "simpler than part 1.  Iterate over each line, building a new one, replacing \\ with \\\\ and \" with \\\".  Then get the lenth\n"
   ]
  },
  {
   "cell_type": "code",
   "execution_count": 8,
   "metadata": {},
   "outputs": [],
   "source": [
    "import numpy as np\n",
    "import scipy as sp\n",
    "import re\n",
    "import time\n",
    "import itertools\n",
    "import string\n",
    "import collections\n",
    "import math\n",
    "import functools\n",
    "import copy\n",
    "import operator\n",
    "import sys\n",
    "import av\n",
    "import codecs\n",
    "from PIL import Image, ImageDraw, ImageFont"
   ]
  },
  {
   "cell_type": "code",
   "execution_count": 11,
   "metadata": {},
   "outputs": [],
   "source": [
    "input = open('input.txt', 'r').read().splitlines()\n",
    "\n"
   ]
  },
  {
   "cell_type": "code",
   "execution_count": 24,
   "metadata": {},
   "outputs": [
    {
     "name": "stdout",
     "output_type": "stream",
     "text": [
      "1333\n"
     ]
    }
   ],
   "source": [
    "\n",
    "code = 0\n",
    "memory = 0\n",
    "hex = \"0123456789abcdef\"\n",
    "\n",
    "#print(\".........1.........2.........3.........4\")\n",
    "for line in input:\n",
    "#    print(line)\n",
    "\n",
    "    code += len(line)\n",
    "#    print(len(line))\n",
    "\n",
    "    memline = line[1:-1]\n",
    "#    print(\".........1.........2.........3.........4\")\n",
    "#    print(memline)\n",
    "    i = 0\n",
    "    count = 0\n",
    "    while i < len(memline):\n",
    "        if memline[i] != \"\\\\\":\n",
    "            count = count + 1\n",
    "            i = i + 1\n",
    "            continue\n",
    "        if memline[i] == \"\\\\\" and (memline[i+1] == \"\\\"\" or memline[i+1] == \"\\\\\"):\n",
    "            count = count + 1\n",
    "            i = i + 2\n",
    "            continue\n",
    "#        print (memline[i:i+2])\n",
    "        if memline[i:i+2] == \"\\\\x\" and memline[i+2] in hex and memline[i+3] in hex:\n",
    "            count = count + 1\n",
    "            i = i + 4\n",
    "            continue\n",
    "        print(\"WHOOPS:\", memline[i:])\n",
    "\n",
    "    memory += count\n",
    "#    print(count)\n",
    "        \n",
    "\n",
    "print(code - memory)"
   ]
  },
  {
   "cell_type": "code",
   "execution_count": 26,
   "metadata": {},
   "outputs": [
    {
     "name": "stdout",
     "output_type": "stream",
     "text": [
      "2046\n"
     ]
    }
   ],
   "source": [
    "newcode = 0\n",
    "\n",
    "for line in input:\n",
    "    newline = \"\\\"\"\n",
    "    i = 0\n",
    "    while i < len(line):\n",
    "        if line[i] == \"\\\\\":\n",
    "            newline += \"\\\\\\\\\"\n",
    "        elif line[i] == \"\\\"\":\n",
    "            newline += \"\\\\\\\"\"\n",
    "        else:\n",
    "            newline += line[i]\n",
    "        i += 1\n",
    "\n",
    "    newline += \"\\\"\"\n",
    "    \n",
    "#    print(line)\n",
    "#    print(newline)\n",
    "\n",
    "    newcode += len(newline)\n",
    "\n",
    "print(newcode - code)"
   ]
  }
 ],
 "metadata": {
  "kernelspec": {
   "display_name": "Python 3",
   "language": "python",
   "name": "python3"
  },
  "language_info": {
   "codemirror_mode": {
    "name": "ipython",
    "version": 3
   },
   "file_extension": ".py",
   "mimetype": "text/x-python",
   "name": "python",
   "nbconvert_exporter": "python",
   "pygments_lexer": "ipython3",
   "version": "3.11.1 (tags/v3.11.1:a7a450f, Dec  6 2022, 19:58:39) [MSC v.1934 64 bit (AMD64)]"
  },
  "orig_nbformat": 4,
  "vscode": {
   "interpreter": {
    "hash": "ccb1bbdea6c16a243991ab1fcf665bfb4d3899754165ecebf26033ef86109029"
   }
  }
 },
 "nbformat": 4,
 "nbformat_minor": 2
}
