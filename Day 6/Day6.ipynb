{
 "cells": [
  {
   "attachments": {},
   "cell_type": "markdown",
   "metadata": {},
   "source": [
    "2015 Day 6\n",
    "\n",
    "https://adventofcode.com/2015/day/6\n"
   ]
  },
  {
   "attachments": {},
   "cell_type": "markdown",
   "metadata": {},
   "source": [
    "Part 1\n",
    "Set up a 1000x1000 boolean array, and then overlay new arrays based on the instruction.  off = False, on = True, toggle = XOR with True\n",
    "\n",
    "Part 2\n",
    "Set up a 1000x1000 int array, and then add new overlay arrays based on the instruction.  off = -1, on = +1, toggle = +2\n"
   ]
  },
  {
   "cell_type": "code",
   "execution_count": 158,
   "metadata": {},
   "outputs": [],
   "source": [
    "import numpy as np\n",
    "import scipy as sp\n",
    "import re\n",
    "import time\n",
    "import itertools\n",
    "import string\n",
    "import collections\n",
    "import math\n",
    "import functools\n",
    "import copy\n",
    "import operator\n",
    "import sys\n",
    "import av\n",
    "from PIL import Image, ImageDraw, ImageFont"
   ]
  },
  {
   "cell_type": "code",
   "execution_count": 159,
   "metadata": {},
   "outputs": [],
   "source": [
    "input = open('input.txt', 'r').read().splitlines()\n",
    "\n",
    "viz = False\n",
    "frame_list = []\n"
   ]
  },
  {
   "cell_type": "code",
   "execution_count": 160,
   "metadata": {},
   "outputs": [],
   "source": [
    "\n",
    "\n",
    "def draw_frame(a, part1 = True):\n",
    "\n",
    "    new_a = a.astype(dtype=np.uint8)\n",
    "    if part1:\n",
    "        new_a = np.where(a, -1, 0).astype(dtype=np.uint8)\n",
    "    else:\n",
    "        new_a = new_a * 5\n",
    "\n",
    "        \n",
    "    im = Image.fromarray(new_a, mode = \"L\")\n",
    "\n",
    "    draw_frame.count += 1\n",
    "\n",
    "    frame_list.append(im)\n",
    "\n",
    "draw_frame.count = 0"
   ]
  },
  {
   "cell_type": "code",
   "execution_count": 161,
   "metadata": {},
   "outputs": [
    {
     "name": "stdout",
     "output_type": "stream",
     "text": [
      "569999\n"
     ]
    }
   ],
   "source": [
    "\n",
    "\n",
    "lights = np.zeros((1000,1000),dtype=bool)\n",
    "\n",
    "for line in input:\n",
    "    if viz:\n",
    "        draw_frame(lights)\n",
    "    op = 0\n",
    "#    print(line)\n",
    "    if line[:6] == \"toggle\":\n",
    "        m = re.search(r\"toggle (\\d+),(\\d+) through (\\d+),(\\d+)\",line)\n",
    "        u_l = [int(x) for x in list(m.group(1,2))]\n",
    "        l_r = [int(x) for x in list(m.group(3,4))]\n",
    "        op = 2\n",
    "#        print(\"toggle %s to %s\" % (str(u_l),str(l_r)))\n",
    "    else:\n",
    "        m = re.search(r\"turn (\\S*) (\\d+),(\\d+) through (\\d+),(\\d+)\", line)\n",
    "        if m.group(1) == \"on\":\n",
    "            op = 1\n",
    "        u_l = [int(x) for x in list(m.group(2,3))]\n",
    "        l_r = [int(x) for x in list(m.group(4,5))]\n",
    "\n",
    "    section = lights[u_l[0]:l_r[0] + 1,u_l[1]:l_r[1] + 1]\n",
    "    if op < 2:\n",
    "        section.fill(op)\n",
    "\n",
    "    else:\n",
    "\n",
    "        lights[u_l[0]:l_r[0] + 1,u_l[1]:l_r[1] + 1] = np.invert(section)\n",
    "\n",
    "print(np.sum(lights,dtype=int))\n",
    "\n",
    "if viz:\n",
    "    draw_frame(lights)\n",
    "    \n",
    "    frame_list[0].save(\"viz/part1.gif\", save_all = True, append_images = frame_list[1:])\n",
    "\n",
    "        "
   ]
  },
  {
   "cell_type": "code",
   "execution_count": 162,
   "metadata": {},
   "outputs": [
    {
     "name": "stdout",
     "output_type": "stream",
     "text": [
      "17836115\n"
     ]
    }
   ],
   "source": [
    "lights = np.zeros((1000,1000),dtype=int)\n",
    "frame_list = []\n",
    "\n",
    "\n",
    "for line in input:\n",
    "    if viz:\n",
    "        draw_frame(lights,False)\n",
    "    op = 0\n",
    "#    print(line)\n",
    "    if line[:6] == \"toggle\":\n",
    "        m = re.search(r\"toggle (\\d+),(\\d+) through (\\d+),(\\d+)\",line)\n",
    "        u_l = [int(x) for x in list(m.group(1,2))]\n",
    "        l_r = [int(x) for x in list(m.group(3,4))]\n",
    "        op = 2\n",
    "#        print(\"toggle %s to %s\" % (str(u_l),str(l_r)))\n",
    "    else:\n",
    "        m = re.search(r\"turn (\\S*) (\\d+),(\\d+) through (\\d+),(\\d+)\", line)\n",
    "        if m.group(1) == \"on\":\n",
    "            op = 1\n",
    "        u_l = [int(x) for x in list(m.group(2,3))]\n",
    "        l_r = [int(x) for x in list(m.group(4,5))]\n",
    "\n",
    "    overlay = np.zeros((l_r[0] - u_l[0] + 1, l_r[1] - u_l[1] + 1), dtype = int)\n",
    "    if op == 0:\n",
    "        overlay.fill(-1)\n",
    "    else:\n",
    "        overlay.fill(op)\n",
    "    \n",
    "    lights[u_l[0]:l_r[0] + 1,u_l[1]:l_r[1] + 1] += overlay\n",
    "\n",
    "    lights = np.where(lights < 0, 0, lights)\n",
    "\n",
    "\n",
    "print(np.sum(lights))\n",
    "\n",
    "if viz:\n",
    "    draw_frame(lights,False)\n",
    "\n",
    "    frame_list[0].save(\"viz/part2.gif\", save_all = True, append_images = frame_list[1:])\n"
   ]
  }
 ],
 "metadata": {
  "kernelspec": {
   "display_name": "Python 3",
   "language": "python",
   "name": "python3"
  },
  "language_info": {
   "codemirror_mode": {
    "name": "ipython",
    "version": 3
   },
   "file_extension": ".py",
   "mimetype": "text/x-python",
   "name": "python",
   "nbconvert_exporter": "python",
   "pygments_lexer": "ipython3",
   "version": "3.11.1"
  },
  "orig_nbformat": 4,
  "vscode": {
   "interpreter": {
    "hash": "ccb1bbdea6c16a243991ab1fcf665bfb4d3899754165ecebf26033ef86109029"
   }
  }
 },
 "nbformat": 4,
 "nbformat_minor": 2
}
